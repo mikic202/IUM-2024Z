{
 "cells": [
  {
   "cell_type": "code",
   "execution_count": 3,
   "metadata": {},
   "outputs": [],
   "source": [
    "import pandas as pd\n",
    "from pathlib import Path\n",
    "import json"
   ]
  },
  {
   "cell_type": "code",
   "execution_count": 6,
   "metadata": {},
   "outputs": [
    {
     "name": "stdout",
     "output_type": "stream",
     "text": [
      "     user_id model_type                  timestamp  \\\n",
      "0       1098     simple 2024-12-30 01:14:54.348548   \n",
      "1       1088     simple 2024-12-30 01:14:54.888639   \n",
      "2        192     simple 2024-12-30 01:14:55.407837   \n",
      "3        159     simple 2024-12-30 01:14:55.910150   \n",
      "4        255     simple 2024-12-30 01:14:56.432560   \n",
      "..       ...        ...                        ...   \n",
      "105     1040    complex 2024-12-30 01:37:36.809253   \n",
      "106      967     simple 2024-12-30 01:37:37.275945   \n",
      "107      756     simple 2024-12-30 01:37:37.748643   \n",
      "108      872     simple 2024-12-30 01:37:38.189977   \n",
      "109      619     simple 2024-12-30 01:37:38.702037   \n",
      "\n",
      "                                    recommended_tracks   status  \n",
      "0    {'id_track': '3Jl5GohfNwozDmpzmQBLDI', 'embedd...  success  \n",
      "1    {'id_track': '4O1aEPLNamT9ZuClNZi2KM', 'embedd...  success  \n",
      "2    {'id_track': '5ZbwJYmRtJe5Uy9nFkki8W', 'embedd...  success  \n",
      "3    {'id_track': '6DKt7DVgBWadoaltUYlPz8', 'embedd...  success  \n",
      "4    {'id_track': '5u0YB9bpmgEPS2bPhwfRFV', 'embedd...  success  \n",
      "..                                                 ...      ...  \n",
      "105  {'id_track': '100Tm6z29RfHTdUQ6NIs0s', 'embedd...  success  \n",
      "106  {'id_track': '7m2g1kKuF7Tre2PzjK3Lnh', 'embedd...  success  \n",
      "107  {'id_track': '1FmTxLmcVliNy9HlEtKMXj', 'embedd...  success  \n",
      "108  {'id_track': '0BCy325UZyR9z0t0uxwn2N', 'embedd...  success  \n",
      "109  {'id_track': '10lP5x0csV13P1aZyLYADs', 'embedd...  success  \n",
      "\n",
      "[110 rows x 5 columns]\n"
     ]
    }
   ],
   "source": [
    "log_data = pd.read_json(Path(f'../data_v2/ab_experiment_log.jsonl'), lines=True)\n",
    "print(log_data)\n"
   ]
  },
  {
   "cell_type": "code",
   "execution_count": 11,
   "metadata": {},
   "outputs": [],
   "source": [
    "results = []\n",
    "model_counts = {\"simple\": {\"in_session\": 0, \"not_in_session\": 0}, \"complex\": {\"in_session\": 0, \"not_in_session\": 0}}\n",
    "\n",
    "for index, log_entry in log_data.iterrows():\n",
    "    user_id = log_entry[\"user_id\"]\n",
    "    recommended_track_id = log_entry[\"recommended_tracks\"][\"id_track\"]\n",
    "    model_type = log_entry[\"model_type\"]\n",
    "    \n",
    "    session_data = pd.read_json(Path(f'../data_v2/sessions/sessions_user_{user_id}.jsonl'), lines=True)\n",
    "    \n",
    "    is_in_session = any(session['track_id'] == recommended_track_id for i, session in session_data.iterrows())\n",
    "    \n",
    "    result = {\n",
    "        \"user_id\": user_id,\n",
    "        \"recommended_track_id\": recommended_track_id,\n",
    "        \"model_type\": model_type,\n",
    "        \"is_in_session\": is_in_session\n",
    "    }\n",
    "    \n",
    "    results.append(result)\n",
    "    \n",
    "    if is_in_session:\n",
    "        model_counts[model_type][\"in_session\"] += 1\n",
    "    else:\n",
    "        model_counts[model_type][\"not_in_session\"] += 1\n",
    "\n"
   ]
  },
  {
   "cell_type": "code",
   "execution_count": 24,
   "metadata": {},
   "outputs": [
    {
     "name": "stdout",
     "output_type": "stream",
     "text": [
      "Model: simple\n",
      "Succesfully recommended tracks: 3\n",
      "Unsuccesfully recommended tracks: 54\n",
      "Success: 5.26%\n",
      "Model: complex\n",
      "Succesfully recommended tracks: 6\n",
      "Unsuccesfully recommended tracks: 47\n",
      "Success: 11.32%\n"
     ]
    }
   ],
   "source": [
    "for model_type, counts in model_counts.items():\n",
    "    total_recommendations = counts[\"in_session\"] + counts[\"not_in_session\"]\n",
    "    success_rate = (counts[\"in_session\"] / total_recommendations) * 100 if total_recommendations > 0 else 0\n",
    "    print(f\"Model: {model_type}\")\n",
    "    print(f\"Succesfully recommended tracks: {counts['in_session']}\")\n",
    "    print(f\"Unsuccesfully recommended tracks: {counts['not_in_session']}\")\n",
    "    print(f\"Success: {success_rate:.2f}%\")\n",
    "\n"
   ]
  }
 ],
 "metadata": {
  "kernelspec": {
   "display_name": "pytorch_env",
   "language": "python",
   "name": "python3"
  },
  "language_info": {
   "codemirror_mode": {
    "name": "ipython",
    "version": 3
   },
   "file_extension": ".py",
   "mimetype": "text/x-python",
   "name": "python",
   "nbconvert_exporter": "python",
   "pygments_lexer": "ipython3",
   "version": "3.12.3"
  }
 },
 "nbformat": 4,
 "nbformat_minor": 2
}
