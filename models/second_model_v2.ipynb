{
 "cells": [
  {
   "cell_type": "code",
   "execution_count": 1,
   "metadata": {},
   "outputs": [],
   "source": [
    "import torch\n",
    "import pandas as pd\n",
    "from pathlib import Path\n",
    "from datetime import datetime\n",
    "from torch.utils.data import Dataset, DataLoader\n",
    "from random import sample\n",
    "import os\n",
    "import numpy as np\n",
    "from torch.nn.utils.rnn import pad_sequence, pack_padded_sequence, pad_packed_sequence\n",
    "import math\n",
    "import torch.nn as nn\n"
   ]
  },
  {
   "cell_type": "code",
   "execution_count": 2,
   "metadata": {},
   "outputs": [
    {
     "name": "stdout",
     "output_type": "stream",
     "text": [
      "Device: cuda\n"
     ]
    }
   ],
   "source": [
    "device = torch.device(\"cuda\") if torch.cuda.is_available() else torch.device(\"cpu\")\n",
    "print(\"Device:\", device)"
   ]
  },
  {
   "cell_type": "code",
   "execution_count": 3,
   "metadata": {},
   "outputs": [],
   "source": [
    "model_path = 'embeding_models/embeding_v3_8_dim.pt'\n",
    "model = torch.jit.load(model_path).encoder.cpu()"
   ]
  },
  {
   "cell_type": "code",
   "execution_count": 4,
   "metadata": {},
   "outputs": [
    {
     "name": "stdout",
     "output_type": "stream",
     "text": [
      "1735858800.0\n"
     ]
    }
   ],
   "source": [
    "BASE_DATE = datetime.strptime(\"2025-01-03\", '%Y-%m-%d').timestamp()\n",
    "print(BASE_DATE)"
   ]
  },
  {
   "cell_type": "code",
   "execution_count": 5,
   "metadata": {},
   "outputs": [],
   "source": [
    "tracks_raw_data = pd.read_json(Path('../data_v2/tracks_artists.jsonl'), lines=True)\n",
    "\n",
    "# processs ARTIST HASH\n",
    "\n",
    "def postprocess_hash_to_list(x):\n",
    "    str_x = str(x)\n",
    "    if len(str_x) < 8:\n",
    "        str_x = \"0\" * (8 - len(str_x)) + str_x\n",
    "    return [int(x) for x in str_x]\n",
    "\n",
    "tracks_raw_data[\"id_artist_hash\"] = tracks_raw_data[\"id_artist_hash\"].apply(postprocess_hash_to_list)\n",
    "\n"
   ]
  },
  {
   "cell_type": "code",
   "execution_count": 6,
   "metadata": {},
   "outputs": [],
   "source": [
    "class TracksDataset(Dataset):\n",
    "    def __init__(self, tracks_data: pd.DataFrame):\n",
    "        self.data = tracks_data\n",
    "\n",
    "    def __len__(self):\n",
    "        return len(self.data)\n",
    "\n",
    "    def get_item(self, idx):\n",
    "        return self.data.iloc[idx].values\n",
    "\n",
    "    def __getitem__(self, idx):\n",
    "        unpacked_data = self.data.iloc[idx].drop(\"id_track\").explode().values.astype(np.float64)\n",
    "        return torch.from_numpy(unpacked_data)"
   ]
  },
  {
   "cell_type": "code",
   "execution_count": 7,
   "metadata": {},
   "outputs": [],
   "source": [
    "embedings_per_id = pd.DataFrame()\n",
    "embedings_per_id[\"id_track\"] = tracks_raw_data[\"id_track\"]\n",
    "embedings_per_id[\"embeding\"] = [model(torch.Tensor(x)).detach().cpu().numpy() for x in TracksDataset(tracks_raw_data)]"
   ]
  },
  {
   "cell_type": "code",
   "execution_count": 8,
   "metadata": {},
   "outputs": [],
   "source": [
    "test_intigers = [687, 852, 528, 562, 426, 1092, 171, 250, 223, 265, 981, 607, 738, 1020, 510, 899, 596, 1047, 826, 669, 923, 905, 1063, 139, 1031]"
   ]
  },
  {
   "cell_type": "code",
   "execution_count": 9,
   "metadata": {},
   "outputs": [
    {
     "name": "stdout",
     "output_type": "stream",
     "text": [
      "   session_id               timestamp  user_id                track_id  \\\n",
      "0       89426 2024-09-17 10:51:23.000      260  1xPec5BN0Zxv77zrWKq43S   \n",
      "1       89427 2023-05-20 00:35:36.227      260  7s0lDK7y3XLmI7tcsRAbW0   \n",
      "2       89427 2023-05-20 00:38:48.054      260  48lQegoLqGAzaRLnMwK0mO   \n",
      "3       89427 2023-05-20 00:43:30.802      260  48lQegoLqGAzaRLnMwK0mO   \n",
      "4       89427 2023-05-20 00:44:59.387      260  4usVYcPlxRgRet6YashdCJ   \n",
      "\n",
      "  event_type  \n",
      "0       play  \n",
      "1       play  \n",
      "2       play  \n",
      "3       like  \n",
      "4       play  \n"
     ]
    }
   ],
   "source": [
    "files_to_load = [file for file in os.listdir(\"../data_v2/sessions\") if int(file.split(\".\")[0].split(\"_\")[-1]) not in test_intigers]\n",
    "\n",
    "raw_sessions_data = pd.concat([pd.read_json(Path(f'../data_v2/sessions/{file}'), lines=True) for file in files_to_load])\n",
    "print(raw_sessions_data.head())"
   ]
  },
  {
   "cell_type": "code",
   "execution_count": 144,
   "metadata": {},
   "outputs": [],
   "source": [
    "merged_sesions_data = raw_sessions_data.merge(embedings_per_id, left_on=\"track_id\", right_on=\"id_track\").drop(\"id_track\", axis=1)\n",
    "merged_sesions_data[\"timestamp\"] = (pd.to_datetime(merged_sesions_data[\"timestamp\"], format='mixed').apply(lambda x: x.timestamp())).div(BASE_DATE)\n",
    "merged_sesions_data = pd.get_dummies(merged_sesions_data, columns=[\"event_type\"], dtype = int)\n",
    "\n",
    "merged_sesions_data = [pd.DataFrame(y).sort_values(\"timestamp\") for _, y in merged_sesions_data.groupby('user_id', as_index=False) if len(y) > 1]\n",
    "\n",
    "NUMBER_OF_INPUTS = 12\n",
    "EMBEDING_SIZE = 8"
   ]
  },
  {
   "cell_type": "code",
   "execution_count": 147,
   "metadata": {},
   "outputs": [
    {
     "name": "stdout",
     "output_type": "stream",
     "text": [
      "975\n"
     ]
    }
   ],
   "source": [
    "print(len(merged_sesions_data))"
   ]
  },
  {
   "cell_type": "code",
   "execution_count": 148,
   "metadata": {},
   "outputs": [],
   "source": [
    "class CustomUserSesionsDataset(Dataset):\n",
    "    def __init__(self, data: pd.DataFrame):\n",
    "        self.data = data\n",
    "\n",
    "    def __len__(self):\n",
    "        return len(self.data)\n",
    "\n",
    "    def get_item(self, idx):\n",
    "        return self.data.iloc[idx].values\n",
    "\n",
    "    def __getitem__(self, idx):\n",
    "        sessions = []\n",
    "        for session in self.data[idx].drop(\"track_id\", axis=1).drop(\"session_id\", axis=1).drop(\"user_id\", axis=1).values:\n",
    "            unpacked_data = np.array([])\n",
    "            for data in session:\n",
    "                unpacked_data = np.append(unpacked_data, data)\n",
    "            sessions.append(torch.tensor(unpacked_data))\n",
    "        return sessions"
   ]
  },
  {
   "cell_type": "code",
   "execution_count": 149,
   "metadata": {},
   "outputs": [],
   "source": [
    "user_sesions_dataset = CustomUserSesionsDataset(merged_sesions_data)"
   ]
  },
  {
   "cell_type": "code",
   "execution_count": 150,
   "metadata": {},
   "outputs": [],
   "source": [
    "COMPARE_PERCENTAGE = 0.25\n",
    "\n",
    "def pad_sessions_collate(batch, pad_value=0.0):\n",
    "    input_sequences = [\n",
    "    ]\n",
    "    output_sequences = [\n",
    "    ]\n",
    "\n",
    "    for batch_element in batch:\n",
    "        number_of_sequence_data = len(batch_element)\n",
    "        input_sequences.append(torch.stack(batch_element[:number_of_sequence_data - 1]))\n",
    "        output_sequences.append(torch.stack([sample(batch_element[i+1:], 1)[0][1:EMBEDING_SIZE + 1] for i in range(number_of_sequence_data-1)]))\n",
    "\n",
    "    x_lens = [len(x) for x in input_sequences]\n",
    "    y_lens = [len(y) for y in output_sequences]\n",
    "\n",
    "    padded_input_sequence = pad_sequence(input_sequences, batch_first=True, padding_value=pad_value)\n",
    "    padded_output_sequence = pad_sequence(output_sequences, batch_first=True, padding_value=pad_value)\n",
    "\n",
    "    return padded_input_sequence, padded_output_sequence, x_lens, y_lens\n"
   ]
  },
  {
   "cell_type": "code",
   "execution_count": 173,
   "metadata": {},
   "outputs": [],
   "source": [
    "train_loader = DataLoader(user_sesions_dataset, batch_size=32, shuffle=True, collate_fn=pad_sessions_collate, num_workers=0)"
   ]
  },
  {
   "cell_type": "code",
   "execution_count": 252,
   "metadata": {},
   "outputs": [],
   "source": [
    "# class UsertPreferenceGenerator(torch.nn.Module):\n",
    "#     def __init__(self):\n",
    "#         super(UsertPreferenceGenerator, self).__init__()\n",
    "#         self.num_layers = 1\n",
    "#         self.hidden_size = 256\n",
    "#         self.rnn = torch.nn.LSTM(input_size=NUMBER_OF_INPUTS, hidden_size=self.hidden_size, num_layers=self.num_layers, batch_first=True)\n",
    "#         self.act2 = torch.nn.LeakyReLU()\n",
    "#         self.act1 = torch.nn.Hardsigmoid()\n",
    "#         self.fc1 = torch.nn.Linear(self.hidden_size, 128)\n",
    "#         self.fc2 = torch.nn.Linear(128, EMBEDING_SIZE)\n",
    "\n",
    "#     def init_hidden(self, batch_size):\n",
    "#         hidden = torch.zeros(self.num_layers, batch_size, self.hidden_size)\n",
    "#         state = torch.zeros(self.num_layers, batch_size, self.hidden_size)\n",
    "#         return hidden, state\n",
    "\n",
    "#     def forward(self, x, x_lens, hidden):\n",
    "\n",
    "#         x_packed = pack_padded_sequence(x, x_lens, batch_first=True, enforce_sorted=False)\n",
    "#         packed_output, hidden = self.rnn(x_packed, hidden)\n",
    "#         output, _ = pad_packed_sequence(packed_output, batch_first=True)\n",
    "#         x = self.fc1(self.act1(output))\n",
    "#         x = self.fc2(self.act2(x))\n",
    "\n",
    "#         return x, hidden\n",
    "\n",
    "\n",
    "class UsertPreferenceGenerator(torch.nn.Module):\n",
    "    def __init__(self):\n",
    "        super(UsertPreferenceGenerator, self).__init__()\n",
    "        self.num_layers = 3\n",
    "        self.hidden_size = 32\n",
    "        self.rnn = torch.nn.LSTM(input_size=NUMBER_OF_INPUTS, hidden_size=self.hidden_size, num_layers=self.num_layers, batch_first=True)\n",
    "        self.act2 = torch.nn.ReLU()\n",
    "        self.act1 = torch.nn.Hardsigmoid()\n",
    "        self.fc1 = torch.nn.Linear(self.hidden_size, 256)\n",
    "        self.fc2 = torch.nn.Linear(256, EMBEDING_SIZE)\n",
    "\n",
    "    def init_hidden(self, batch_size):\n",
    "        hidden = torch.zeros(self.num_layers, batch_size, self.hidden_size)\n",
    "        state = torch.zeros(self.num_layers, batch_size, self.hidden_size)\n",
    "        return hidden, state\n",
    "\n",
    "    def forward(self, x, x_lens, hidden):\n",
    "\n",
    "        x_packed = pack_padded_sequence(x, x_lens, batch_first=True, enforce_sorted=False)\n",
    "        packed_output, hidden = self.rnn(x_packed, hidden)\n",
    "        output, _ = pad_packed_sequence(packed_output, batch_first=True)\n",
    "        x = self.fc1(self.act1(output))\n",
    "        x = self.fc2(self.act2(x))\n",
    "\n",
    "        return x, hidden\n",
    "\n",
    "\n",
    "class UsertPreferenceGenerator(torch.nn.Module):\n",
    "    def __init__(self):\n",
    "        super(UsertPreferenceGenerator, self).__init__()\n",
    "        self.num_layers = 1\n",
    "        self.hidden_size = 16\n",
    "        self.rnn = torch.nn.LSTM(input_size=NUMBER_OF_INPUTS, hidden_size=self.hidden_size, num_layers=self.num_layers, batch_first=True)\n",
    "        self.fc1 = torch.nn.Linear(self.hidden_size, EMBEDING_SIZE)\n",
    "\n",
    "    def reset_hidden_state(self, batch_size, target_device):\n",
    "        hidden = torch.zeros(self.num_layers, batch_size, self.hidden_size).to(target_device)\n",
    "        state = torch.zeros(self.num_layers, batch_size, self.hidden_size).to(target_device)\n",
    "        dummy_input_seq = torch.zeros(batch_size, 1, NUMBER_OF_INPUTS).to(target_device)\n",
    "        _, _ = self.rnn(dummy_input_seq, (hidden, state))\n",
    "\n",
    "    def forward(self, x, x_lens):\n",
    "\n",
    "        x_packed = pack_padded_sequence(x, x_lens, batch_first=True, enforce_sorted=False)\n",
    "        packed_output, hidden = self.rnn(x_packed)\n",
    "        output, _ = pad_packed_sequence(packed_output, batch_first=True)\n",
    "        x_lens = torch.tensor(x_lens)\n",
    "        mask = torch.arange(output.size(1)).expand(len(x_lens), output.size(1)) < x_lens.unsqueeze(1)\n",
    "        mask = mask.unsqueeze(-1).to(output.device)\n",
    "        output = output * mask\n",
    "        x = self.fc1(output)\n",
    "        # x = self.fc2(self.act2(x))\n",
    "\n",
    "        return x"
   ]
  },
  {
   "cell_type": "code",
   "execution_count": 244,
   "metadata": {},
   "outputs": [
    {
     "name": "stdout",
     "output_type": "stream",
     "text": [
      "UsertPreferenceGenerator(\n",
      "  (rnn): LSTM(12, 16, batch_first=True)\n",
      "  (fc1): Linear(in_features=16, out_features=8, bias=True)\n",
      ")\n"
     ]
    }
   ],
   "source": [
    "model = UsertPreferenceGenerator().to(device)\n",
    "print(model)\n",
    "\n",
    "optimizer = torch.optim.Adam(model.parameters(), lr = 0.0001)\n",
    "loss_fun = nn.L1Loss()\n",
    "\n",
    "# torch.onnx.export(model,[] ,'loop.onnx', verbose=True)"
   ]
  },
  {
   "cell_type": "code",
   "execution_count": 253,
   "metadata": {},
   "outputs": [
    {
     "name": "stdout",
     "output_type": "stream",
     "text": [
      "UsertPreferenceGenerator(\n",
      "  (rnn): LSTM(12, 16, batch_first=True)\n",
      "  (fc1): Linear(in_features=16, out_features=8, bias=True)\n",
      ")\n",
      "Epoch: 0, loss: 17.6\n",
      "Epoch: 1, loss: 17.4\n",
      "Epoch: 2, loss: 17.1\n"
     ]
    }
   ],
   "source": [
    "# Training loop\n",
    "model = UsertPreferenceGenerator().to(device)\n",
    "print(model)\n",
    "\n",
    "optimizer = torch.optim.Adam(model.parameters(), lr = 0.0001)\n",
    "loss_fun = nn.L1Loss()\n",
    "\n",
    "\n",
    "model.train()\n",
    "for epoch in range(3):\n",
    "    loss_sum = 0\n",
    "    for x, targets, x_lens, y_lens in train_loader:\n",
    "        x = x.float().to(device)\n",
    "        targets = targets.to(torch.float).to(device)\n",
    "\n",
    "        # hidden, state = model.init_hidden(x.size(0))\n",
    "        # hidden, state = hidden.to(device), state.to(device)\n",
    "        model.reset_hidden_state(x.size(0), device)\n",
    "        preds = model(x, x_lens)\n",
    "        optimizer.zero_grad()\n",
    "        loss = loss_fun(preds, targets)\n",
    "        loss.backward()\n",
    "        loss_sum += loss.item()\n",
    "        optimizer.step()\n",
    "    print(f\"Epoch: {epoch}, loss: {loss_sum:.3}\")"
   ]
  },
  {
   "cell_type": "code",
   "execution_count": 154,
   "metadata": {},
   "outputs": [],
   "source": [
    "torch.save(model, 'recomendation_models/user_preference_model_v4_8_dim.pt')"
   ]
  },
  {
   "cell_type": "code",
   "execution_count": null,
   "metadata": {},
   "outputs": [
    {
     "name": "stdout",
     "output_type": "stream",
     "text": [
      "-------------------------------------------------------  ------------  ------------  ------------  ------------  ------------  ------------  ------------  ------------  ------------  ------------  \n",
      "                                                   Name    Self CPU %      Self CPU   CPU total %     CPU total  CPU time avg     Self CUDA   Self CUDA %    CUDA total  CUDA time avg    # of Calls  \n",
      "-------------------------------------------------------  ------------  ------------  ------------  ------------  ------------  ------------  ------------  ------------  ------------  ------------  \n",
      "                             aten::_pad_packed_sequence        10.52%       1.156ms        32.01%       3.519ms       3.519ms     909.000us         8.04%       3.522ms       3.522ms             1  \n",
      "                                             aten::sort        12.44%       1.368ms        27.00%       2.968ms       1.484ms       1.377ms        12.18%       2.978ms       1.489ms             2  \n",
      "                            aten::_pack_padded_sequence         6.33%     696.000us        24.89%       2.736ms       2.736ms     561.000us         4.96%       2.739ms       2.739ms             1  \n",
      "                                            aten::slice        11.40%       1.253ms        14.70%       1.616ms      11.145us       1.564ms        13.84%       2.080ms      14.345us           145  \n",
      "                                       aten::contiguous         1.33%     146.000us        11.77%       1.294ms      46.214us     193.000us         1.71%       1.370ms      48.929us            28  \n",
      "                                             aten::lstm         0.66%      73.000us        12.34%       1.356ms       1.356ms      75.000us         0.66%       1.359ms       1.359ms             1  \n",
      "                                            aten::copy_         5.47%     601.000us        11.93%       1.311ms      21.492us       1.299ms        11.49%       1.299ms      21.295us            61  \n",
      "                                       aten::_cudnn_rnn        10.02%       1.101ms        11.42%       1.255ms       1.255ms       1.210ms        10.71%       1.262ms       1.262ms             1  \n",
      "                                            aten::clone         3.03%     333.000us         9.93%       1.092ms      39.000us     341.000us         3.02%       1.177ms      42.036us            28  \n",
      "                                     aten::index_select         2.27%     249.000us         3.69%     406.000us      67.667us     814.000us         7.20%     929.000us     154.833us             6  \n",
      "                                           aten::arange         3.99%     439.000us         8.31%     914.000us     228.500us     453.000us         4.01%     927.000us     231.750us             4  \n",
      "                                       aten::as_strided         0.65%      71.000us         0.65%      71.000us       0.464us     549.000us         4.86%     549.000us       3.588us           153  \n",
      "                                           aten::linear         0.27%      30.000us         1.49%     164.000us     164.000us      21.000us         0.19%     478.000us     478.000us             1  \n",
      "                                       aten::empty_like         1.46%     160.000us         3.24%     356.000us      12.276us     215.000us         1.90%     437.000us      15.069us            29  \n",
      "                                            aten::addmm         0.66%      73.000us         0.80%      88.000us      88.000us     416.000us         3.68%     416.000us     416.000us             1  \n",
      "                                            aten::empty         2.38%     262.000us         2.38%     262.000us       5.574us     391.000us         3.46%     391.000us       8.319us            47  \n",
      "                                             aten::view         1.02%     112.000us         1.02%     112.000us       1.836us     327.000us         2.89%     327.000us       5.361us            61  \n",
      "                                             aten::full         0.31%      34.000us         1.08%     119.000us     119.000us      29.000us         0.26%     183.000us     183.000us             1  \n",
      "                                               aten::to         0.20%      22.000us         4.27%     469.000us     117.250us      28.000us         0.25%     163.000us      40.750us             4  \n",
      "                                         aten::_to_copy         0.34%      37.000us         4.03%     443.000us     221.500us      31.000us         0.27%     135.000us      67.500us             2  \n",
      "                                            aten::fill_         0.43%      47.000us         0.57%      63.000us      63.000us     133.000us         1.18%     133.000us     133.000us             1  \n",
      "                                            aten::index         0.64%      70.000us         0.75%      82.000us      82.000us      73.000us         0.65%      87.000us      87.000us             1  \n",
      "                                          aten::resize_         0.46%      51.000us         0.46%      51.000us       6.375us      81.000us         0.72%      81.000us      10.125us             8  \n",
      "                                         aten::scatter_         0.33%      36.000us         0.44%      48.000us      48.000us      45.000us         0.40%      53.000us      53.000us             1  \n",
      "                                              aten::cat         0.25%      27.000us         0.30%      33.000us      33.000us      52.000us         0.46%      52.000us      52.000us             1  \n",
      "                                        aten::transpose         0.20%      22.000us         0.29%      32.000us      10.667us      28.000us         0.25%      40.000us      13.333us             3  \n",
      "                                          aten::reshape         0.10%      11.000us         0.18%      20.000us      10.000us      16.000us         0.14%      27.000us      13.500us             2  \n",
      "                                                aten::t         0.09%      10.000us         0.19%      21.000us      21.000us      12.000us         0.11%      24.000us      24.000us             1  \n",
      "                                    aten::empty_strided         0.21%      23.000us         0.21%      23.000us      11.500us      21.000us         0.19%      21.000us      10.500us             2  \n",
      "                                           aten::select         0.12%      13.000us         0.15%      16.000us      16.000us      15.000us         0.13%      19.000us      19.000us             1  \n",
      "                                             aten::set_         0.08%       9.000us         0.12%      13.000us       6.500us      14.000us         0.12%      19.000us       9.500us             2  \n",
      "                                       aten::lift_fresh         0.01%       1.000us         0.01%       1.000us       1.000us       5.000us         0.04%       5.000us       5.000us             1  \n",
      "                              aten::cudnn_is_acceptable         0.01%       1.000us         0.01%       1.000us       1.000us       3.000us         0.03%       3.000us       3.000us             1  \n",
      "                                        cudaEventRecord        12.13%       1.334ms        12.13%       1.334ms       1.091us       0.000us         0.00%       0.000us       0.000us          1223  \n",
      "                                        cudaMemcpyAsync         5.19%     570.000us         5.19%     570.000us      19.655us       0.000us         0.00%       0.000us       0.000us            29  \n",
      "                                  cudaStreamSynchronize         0.13%      14.000us         0.13%      14.000us       7.000us       0.000us         0.00%       0.000us       0.000us             2  \n",
      "                                       cudaLaunchKernel         3.03%     333.000us         3.03%     333.000us       3.202us       0.000us         0.00%       0.000us       0.000us           104  \n",
      "                                  cudaStreamIsCapturing         0.02%       2.000us         0.02%       2.000us       1.000us       0.000us         0.00%       0.000us       0.000us             2  \n",
      "                                  cudaStreamGetPriority         0.00%       0.000us         0.00%       0.000us       0.000us       0.000us         0.00%       0.000us       0.000us             2  \n",
      "                       cudaDeviceGetStreamPriorityRange         0.01%       1.000us         0.01%       1.000us       0.500us       0.000us         0.00%       0.000us       0.000us             2  \n",
      "                                    cudaStreamWaitEvent         0.03%       3.000us         0.03%       3.000us       0.120us       0.000us         0.00%       0.000us       0.000us            25  \n",
      "          cudaOccupancyMaxActiveBlocksPerMultiprocessor         0.05%       5.000us         0.05%       5.000us       0.333us       0.000us         0.00%       0.000us       0.000us            15  \n",
      "cudaOccupancyMaxActiveBlocksPerMultiprocessorWithFla...         0.04%       4.000us         0.04%       4.000us       4.000us       0.000us         0.00%       0.000us       0.000us             1  \n",
      "                                  cudaDeviceSynchronize         1.73%     190.000us         1.73%     190.000us     190.000us       0.000us         0.00%       0.000us       0.000us             1  \n",
      "-------------------------------------------------------  ------------  ------------  ------------  ------------  ------------  ------------  ------------  ------------  ------------  ------------  \n",
      "Self CPU time total: 10.993ms\n",
      "Self CUDA time total: 11.301ms\n",
      "\n"
     ]
    },
    {
     "name": "stderr",
     "output_type": "stream",
     "text": [
      "STAGE:2024-12-24 14:20:35 4443:4443 ActivityProfilerController.cpp:314] Completed Stage: Warm Up\n",
      "STAGE:2024-12-24 14:20:35 4443:4443 ActivityProfilerController.cpp:320] Completed Stage: Collection\n",
      "STAGE:2024-12-24 14:20:35 4443:4443 ActivityProfilerController.cpp:324] Completed Stage: Post Processing\n"
     ]
    }
   ],
   "source": [
    "import torch.autograd.profiler as profiler\n",
    "\n",
    "with profiler.profile(use_cuda=True) as prof:\n",
    "    preds, _ = model(x, x_lens, (hidden, state))\n",
    "print(prof.key_averages().table(sort_by=\"cuda_time_total\"))\n"
   ]
  },
  {
   "cell_type": "code",
   "execution_count": null,
   "metadata": {},
   "outputs": [
    {
     "ename": "AttributeError",
     "evalue": "'list' object has no attribute 'device'",
     "output_type": "error",
     "traceback": [
      "\u001b[0;31m---------------------------------------------------------------------------\u001b[0m",
      "\u001b[0;31mAttributeError\u001b[0m                            Traceback (most recent call last)",
      "Cell \u001b[0;32mIn[21], line 1\u001b[0m\n\u001b[0;32m----> 1\u001b[0m \u001b[43mmodel\u001b[49m\u001b[43m(\u001b[49m\u001b[43m[\u001b[49m\u001b[43m[\u001b[49m\u001b[38;5;241;43m0.993923\u001b[39;49m\u001b[43m,\u001b[49m\u001b[43m \u001b[49m\u001b[38;5;241;43m4.7692013\u001b[39;49m\u001b[43m \u001b[49m\u001b[43m,\u001b[49m\u001b[43m  \u001b[49m\u001b[38;5;241;43m0.50016433\u001b[39;49m\u001b[43m,\u001b[49m\u001b[43m  \u001b[49m\u001b[38;5;241;43m1.8391552\u001b[39;49m\u001b[43m \u001b[49m\u001b[43m,\u001b[49m\u001b[43m \u001b[49m\u001b[38;5;241;43m-\u001b[39;49m\u001b[38;5;241;43m4.93348\u001b[39;49m\u001b[43m   \u001b[49m\u001b[43m,\u001b[49m\u001b[43m  \u001b[49m\u001b[38;5;241;43m1.0898505\u001b[39;49m\u001b[43m \u001b[49m\u001b[43m,\u001b[49m\n\u001b[1;32m      2\u001b[0m \u001b[43m          \u001b[49m\u001b[38;5;241;43m1.9289817\u001b[39;49m\u001b[43m \u001b[49m\u001b[43m,\u001b[49m\u001b[43m \u001b[49m\u001b[38;5;241;43m10.784728\u001b[39;49m\u001b[43m  \u001b[49m\u001b[43m,\u001b[49m\u001b[43m \u001b[49m\u001b[38;5;241;43m-\u001b[39;49m\u001b[38;5;241;43m3.9150748\u001b[39;49m\u001b[43m \u001b[49m\u001b[43m,\u001b[49m\u001b[43m  \u001b[49m\u001b[38;5;241;43m5.587146\u001b[39;49m\u001b[43m  \u001b[49m\u001b[43m,\u001b[49m\u001b[43m  \u001b[49m\u001b[38;5;241;43m7.239292\u001b[39;49m\u001b[43m  \u001b[49m\u001b[43m,\u001b[49m\n\u001b[1;32m      3\u001b[0m \u001b[43m          \u001b[49m\u001b[38;5;241;43m7.1324625\u001b[39;49m\u001b[43m \u001b[49m\u001b[43m,\u001b[49m\u001b[43m  \u001b[49m\u001b[38;5;241;43m2.55823\u001b[39;49m\u001b[43m   \u001b[49m\u001b[43m,\u001b[49m\u001b[43m  \u001b[49m\u001b[38;5;241;43m4.176082\u001b[39;49m\u001b[43m  \u001b[49m\u001b[43m,\u001b[49m\u001b[43m  \u001b[49m\u001b[38;5;241;43m8.504707\u001b[39;49m\u001b[43m  \u001b[49m\u001b[43m,\u001b[49m\u001b[43m  \u001b[49m\u001b[38;5;241;43m5.0005746\u001b[39;49m\u001b[43m \u001b[49m\u001b[43m,\u001b[49m\n\u001b[1;32m      4\u001b[0m \u001b[43m         \u001b[49m\u001b[38;5;241;43m-\u001b[39;49m\u001b[38;5;241;43m2.202329\u001b[39;49m\u001b[43m,\u001b[49m\u001b[43m \u001b[49m\u001b[38;5;241;43m0\u001b[39;49m\u001b[43m,\u001b[49m\u001b[43m \u001b[49m\u001b[38;5;241;43m1\u001b[39;49m\u001b[43m,\u001b[49m\u001b[43m \u001b[49m\u001b[38;5;241;43m0\u001b[39;49m\u001b[43m]\u001b[49m\u001b[43m]\u001b[49m\u001b[43m,\u001b[49m\u001b[43m \u001b[49m\u001b[43m[\u001b[49m\u001b[38;5;241;43m1\u001b[39;49m\u001b[43m]\u001b[49m\u001b[43m,\u001b[49m\u001b[43m \u001b[49m\u001b[43mtorch\u001b[49m\u001b[38;5;241;43m.\u001b[39;49m\u001b[43mzeros\u001b[49m\u001b[43m(\u001b[49m\u001b[38;5;241;43m1\u001b[39;49m\u001b[43m,\u001b[49m\u001b[43m \u001b[49m\u001b[38;5;241;43m1\u001b[39;49m\u001b[43m,\u001b[49m\u001b[43m \u001b[49m\u001b[38;5;241;43m32\u001b[39;49m\u001b[43m)\u001b[49m\u001b[43m)\u001b[49m\n",
      "File \u001b[0;32m~/miniconda3/envs/pt/lib/python3.11/site-packages/torch/nn/modules/module.py:1511\u001b[0m, in \u001b[0;36mModule._wrapped_call_impl\u001b[0;34m(self, *args, **kwargs)\u001b[0m\n\u001b[1;32m   1509\u001b[0m     \u001b[38;5;28;01mreturn\u001b[39;00m \u001b[38;5;28mself\u001b[39m\u001b[38;5;241m.\u001b[39m_compiled_call_impl(\u001b[38;5;241m*\u001b[39margs, \u001b[38;5;241m*\u001b[39m\u001b[38;5;241m*\u001b[39mkwargs)  \u001b[38;5;66;03m# type: ignore[misc]\u001b[39;00m\n\u001b[1;32m   1510\u001b[0m \u001b[38;5;28;01melse\u001b[39;00m:\n\u001b[0;32m-> 1511\u001b[0m     \u001b[38;5;28;01mreturn\u001b[39;00m \u001b[38;5;28;43mself\u001b[39;49m\u001b[38;5;241;43m.\u001b[39;49m\u001b[43m_call_impl\u001b[49m\u001b[43m(\u001b[49m\u001b[38;5;241;43m*\u001b[39;49m\u001b[43margs\u001b[49m\u001b[43m,\u001b[49m\u001b[43m \u001b[49m\u001b[38;5;241;43m*\u001b[39;49m\u001b[38;5;241;43m*\u001b[39;49m\u001b[43mkwargs\u001b[49m\u001b[43m)\u001b[49m\n",
      "File \u001b[0;32m~/miniconda3/envs/pt/lib/python3.11/site-packages/torch/nn/modules/module.py:1520\u001b[0m, in \u001b[0;36mModule._call_impl\u001b[0;34m(self, *args, **kwargs)\u001b[0m\n\u001b[1;32m   1515\u001b[0m \u001b[38;5;66;03m# If we don't have any hooks, we want to skip the rest of the logic in\u001b[39;00m\n\u001b[1;32m   1516\u001b[0m \u001b[38;5;66;03m# this function, and just call forward.\u001b[39;00m\n\u001b[1;32m   1517\u001b[0m \u001b[38;5;28;01mif\u001b[39;00m \u001b[38;5;129;01mnot\u001b[39;00m (\u001b[38;5;28mself\u001b[39m\u001b[38;5;241m.\u001b[39m_backward_hooks \u001b[38;5;129;01mor\u001b[39;00m \u001b[38;5;28mself\u001b[39m\u001b[38;5;241m.\u001b[39m_backward_pre_hooks \u001b[38;5;129;01mor\u001b[39;00m \u001b[38;5;28mself\u001b[39m\u001b[38;5;241m.\u001b[39m_forward_hooks \u001b[38;5;129;01mor\u001b[39;00m \u001b[38;5;28mself\u001b[39m\u001b[38;5;241m.\u001b[39m_forward_pre_hooks\n\u001b[1;32m   1518\u001b[0m         \u001b[38;5;129;01mor\u001b[39;00m _global_backward_pre_hooks \u001b[38;5;129;01mor\u001b[39;00m _global_backward_hooks\n\u001b[1;32m   1519\u001b[0m         \u001b[38;5;129;01mor\u001b[39;00m _global_forward_hooks \u001b[38;5;129;01mor\u001b[39;00m _global_forward_pre_hooks):\n\u001b[0;32m-> 1520\u001b[0m     \u001b[38;5;28;01mreturn\u001b[39;00m \u001b[43mforward_call\u001b[49m\u001b[43m(\u001b[49m\u001b[38;5;241;43m*\u001b[39;49m\u001b[43margs\u001b[49m\u001b[43m,\u001b[49m\u001b[43m \u001b[49m\u001b[38;5;241;43m*\u001b[39;49m\u001b[38;5;241;43m*\u001b[39;49m\u001b[43mkwargs\u001b[49m\u001b[43m)\u001b[49m\n\u001b[1;32m   1522\u001b[0m \u001b[38;5;28;01mtry\u001b[39;00m:\n\u001b[1;32m   1523\u001b[0m     result \u001b[38;5;241m=\u001b[39m \u001b[38;5;28;01mNone\u001b[39;00m\n",
      "Cell \u001b[0;32mIn[15], line 16\u001b[0m, in \u001b[0;36mUsertPreferenceGenerator.forward\u001b[0;34m(self, x, x_lens, hidden)\u001b[0m\n\u001b[1;32m     14\u001b[0m \u001b[38;5;28;01mdef\u001b[39;00m \u001b[38;5;21mforward\u001b[39m(\u001b[38;5;28mself\u001b[39m, x, x_lens, hidden):\n\u001b[0;32m---> 16\u001b[0m     x_packed \u001b[38;5;241m=\u001b[39m \u001b[43mpack_padded_sequence\u001b[49m\u001b[43m(\u001b[49m\u001b[43mx\u001b[49m\u001b[43m,\u001b[49m\u001b[43m \u001b[49m\u001b[43mx_lens\u001b[49m\u001b[43m,\u001b[49m\u001b[43m \u001b[49m\u001b[43mbatch_first\u001b[49m\u001b[38;5;241;43m=\u001b[39;49m\u001b[38;5;28;43;01mTrue\u001b[39;49;00m\u001b[43m,\u001b[49m\u001b[43m \u001b[49m\u001b[43menforce_sorted\u001b[49m\u001b[38;5;241;43m=\u001b[39;49m\u001b[38;5;28;43;01mFalse\u001b[39;49;00m\u001b[43m)\u001b[49m\u001b[38;5;241m.\u001b[39mto(device)\n\u001b[1;32m     17\u001b[0m     packed_output, hidden \u001b[38;5;241m=\u001b[39m \u001b[38;5;28mself\u001b[39m\u001b[38;5;241m.\u001b[39mlstm(x_packed, hidden)\n\u001b[1;32m     18\u001b[0m     output, _ \u001b[38;5;241m=\u001b[39m pad_packed_sequence(packed_output, batch_first\u001b[38;5;241m=\u001b[39m\u001b[38;5;28;01mTrue\u001b[39;00m)\n",
      "File \u001b[0;32m~/miniconda3/envs/pt/lib/python3.11/site-packages/torch/nn/utils/rnn.py:259\u001b[0m, in \u001b[0;36mpack_padded_sequence\u001b[0;34m(input, lengths, batch_first, enforce_sorted)\u001b[0m\n\u001b[1;32m    257\u001b[0m \u001b[38;5;28;01melse\u001b[39;00m:\n\u001b[1;32m    258\u001b[0m     lengths, sorted_indices \u001b[38;5;241m=\u001b[39m torch\u001b[38;5;241m.\u001b[39msort(lengths, descending\u001b[38;5;241m=\u001b[39m\u001b[38;5;28;01mTrue\u001b[39;00m)\n\u001b[0;32m--> 259\u001b[0m     sorted_indices \u001b[38;5;241m=\u001b[39m sorted_indices\u001b[38;5;241m.\u001b[39mto(\u001b[38;5;28;43minput\u001b[39;49m\u001b[38;5;241;43m.\u001b[39;49m\u001b[43mdevice\u001b[49m)\n\u001b[1;32m    260\u001b[0m     batch_dim \u001b[38;5;241m=\u001b[39m \u001b[38;5;241m0\u001b[39m \u001b[38;5;28;01mif\u001b[39;00m batch_first \u001b[38;5;28;01melse\u001b[39;00m \u001b[38;5;241m1\u001b[39m\n\u001b[1;32m    261\u001b[0m     \u001b[38;5;28minput\u001b[39m \u001b[38;5;241m=\u001b[39m \u001b[38;5;28minput\u001b[39m\u001b[38;5;241m.\u001b[39mindex_select(batch_dim, sorted_indices)\n",
      "\u001b[0;31mAttributeError\u001b[0m: 'list' object has no attribute 'device'"
     ]
    }
   ],
   "source": [
    "model([[0.993923, 4.7692013 ,  0.50016433,  1.8391552 , -4.93348   ,  1.0898505 ,\n",
    "          1.9289817 , 10.784728  , -3.9150748 ,  5.587146  ,  7.239292  ,\n",
    "          7.1324625 ,  2.55823   ,  4.176082  ,  8.504707  ,  5.0005746 ,\n",
    "         -2.202329, 0, 1, 0]], [1], torch.zeros(1, 1, 32))"
   ]
  },
  {
   "cell_type": "code",
   "execution_count": 255,
   "metadata": {},
   "outputs": [
    {
     "name": "stderr",
     "output_type": "stream",
     "text": [
      "/tmp/ipykernel_4610/423004094.py:74: UserWarning: To copy construct from a tensor, it is recommended to use sourceTensor.clone().detach() or sourceTensor.clone().detach().requires_grad_(True), rather than torch.tensor(sourceTensor).\n",
      "  x_lens = torch.tensor(x_lens)\n",
      "/tmp/ipykernel_4610/423004094.py:74: UserWarning: To copy construct from a tensor, it is recommended to use sourceTensor.clone().detach() or sourceTensor.clone().detach().requires_grad_(True), rather than torch.tensor(sourceTensor).\n",
      "  x_lens = torch.tensor(x_lens)\n"
     ]
    },
    {
     "name": "stdout",
     "output_type": "stream",
     "text": [
      "tensor([[-0.0981,  0.0610,  0.0832, -0.3069,  0.1439, -0.1514,  0.1113,  0.1178],\n",
      "        [-0.1232,  0.0957,  0.0696, -0.3405,  0.1395, -0.1245,  0.0622,  0.0995],\n",
      "        [-0.1292,  0.1090,  0.0691, -0.3464,  0.1300, -0.1199,  0.0538,  0.0855]],\n",
      "       grad_fn=<SliceBackward0>)\n",
      "____________________________\n",
      "tensor([[-0.1013,  0.0348,  0.0529, -0.3173,  0.0960, -0.0907,  0.2120,  0.1766],\n",
      "        [-0.1158,  0.0514,  0.0610, -0.3450,  0.0674, -0.0882,  0.1883,  0.1678],\n",
      "        [-0.1015,  0.0612,  0.0499, -0.3369,  0.0846, -0.1231,  0.1725,  0.1506]],\n",
      "       grad_fn=<SliceBackward0>)\n",
      "____________________________\n"
     ]
    },
    {
     "name": "stderr",
     "output_type": "stream",
     "text": [
      "/tmp/ipykernel_4610/423004094.py:74: UserWarning: To copy construct from a tensor, it is recommended to use sourceTensor.clone().detach() or sourceTensor.clone().detach().requires_grad_(True), rather than torch.tensor(sourceTensor).\n",
      "  x_lens = torch.tensor(x_lens)\n"
     ]
    },
    {
     "name": "stdout",
     "output_type": "stream",
     "text": [
      "tensor([[-0.1721,  0.1390,  0.0583, -0.3960,  0.1070, -0.1525,  0.0182,  0.1222],\n",
      "        [-0.1241,  0.0740,  0.0466, -0.3479,  0.0833, -0.1208,  0.1321,  0.1440],\n",
      "        [-0.1201,  0.0776,  0.0311, -0.3300,  0.0879, -0.1411,  0.1495,  0.1490]],\n",
      "       grad_fn=<SliceBackward0>)\n",
      "____________________________\n"
     ]
    },
    {
     "name": "stderr",
     "output_type": "stream",
     "text": [
      "/tmp/ipykernel_4610/423004094.py:74: UserWarning: To copy construct from a tensor, it is recommended to use sourceTensor.clone().detach() or sourceTensor.clone().detach().requires_grad_(True), rather than torch.tensor(sourceTensor).\n",
      "  x_lens = torch.tensor(x_lens)\n"
     ]
    },
    {
     "name": "stdout",
     "output_type": "stream",
     "text": [
      "tensor([[-0.1634,  0.1456,  0.0318, -0.3754,  0.1197, -0.1513,  0.0765,  0.1260],\n",
      "        [-0.1603,  0.1431,  0.0479, -0.3690,  0.1078, -0.1611,  0.0685,  0.1239],\n",
      "        [-0.1556,  0.1290,  0.0395, -0.3669,  0.1086, -0.1443,  0.0710,  0.1298]],\n",
      "       grad_fn=<SliceBackward0>)\n",
      "____________________________\n"
     ]
    },
    {
     "name": "stderr",
     "output_type": "stream",
     "text": [
      "/tmp/ipykernel_4610/423004094.py:74: UserWarning: To copy construct from a tensor, it is recommended to use sourceTensor.clone().detach() or sourceTensor.clone().detach().requires_grad_(True), rather than torch.tensor(sourceTensor).\n",
      "  x_lens = torch.tensor(x_lens)\n"
     ]
    },
    {
     "name": "stdout",
     "output_type": "stream",
     "text": [
      "tensor([[-0.1929,  0.0953,  0.0531, -0.3588,  0.1242, -0.2114,  0.0881,  0.1870],\n",
      "        [-0.1784,  0.1221,  0.0070, -0.3669,  0.0793, -0.1979,  0.1746,  0.2018],\n",
      "        [-0.1917,  0.1611, -0.0063, -0.4084,  0.0512, -0.1867,  0.1600,  0.1828]],\n",
      "       grad_fn=<SliceBackward0>)\n",
      "____________________________\n"
     ]
    },
    {
     "name": "stderr",
     "output_type": "stream",
     "text": [
      "/tmp/ipykernel_4610/423004094.py:74: UserWarning: To copy construct from a tensor, it is recommended to use sourceTensor.clone().detach() or sourceTensor.clone().detach().requires_grad_(True), rather than torch.tensor(sourceTensor).\n",
      "  x_lens = torch.tensor(x_lens)\n"
     ]
    },
    {
     "name": "stdout",
     "output_type": "stream",
     "text": [
      "tensor([[-0.1859,  0.1685,  0.0390, -0.3985,  0.1173, -0.1641,  0.0706,  0.1304],\n",
      "        [-0.1918,  0.1587,  0.0392, -0.3781,  0.1167, -0.1787,  0.0923,  0.1552],\n",
      "        [-0.1491,  0.1633,  0.0878, -0.4186,  0.1352, -0.1178,  0.0186,  0.1092]],\n",
      "       grad_fn=<SliceBackward0>)\n",
      "____________________________\n"
     ]
    },
    {
     "name": "stderr",
     "output_type": "stream",
     "text": [
      "/tmp/ipykernel_4610/423004094.py:74: UserWarning: To copy construct from a tensor, it is recommended to use sourceTensor.clone().detach() or sourceTensor.clone().detach().requires_grad_(True), rather than torch.tensor(sourceTensor).\n",
      "  x_lens = torch.tensor(x_lens)\n",
      "/tmp/ipykernel_4610/423004094.py:74: UserWarning: To copy construct from a tensor, it is recommended to use sourceTensor.clone().detach() or sourceTensor.clone().detach().requires_grad_(True), rather than torch.tensor(sourceTensor).\n",
      "  x_lens = torch.tensor(x_lens)\n"
     ]
    },
    {
     "name": "stdout",
     "output_type": "stream",
     "text": [
      "tensor([[-0.1668,  0.0803, -0.0080, -0.3501,  0.0100, -0.1522,  0.1864,  0.1789],\n",
      "        [-0.1574,  0.0836, -0.0154, -0.3529,  0.0343, -0.1976,  0.1891,  0.1806],\n",
      "        [-0.1777,  0.1015, -0.0188, -0.3855,  0.0081, -0.2090,  0.1604,  0.1732]],\n",
      "       grad_fn=<SliceBackward0>)\n",
      "____________________________\n",
      "tensor([[-0.1050,  0.1009,  0.0813, -0.3382,  0.1263, -0.0896,  0.0574,  0.0684],\n",
      "        [-0.1490,  0.1736,  0.0088, -0.3762,  0.1142, -0.1688,  0.1051,  0.1210],\n",
      "        [-0.1498,  0.1666,  0.0139, -0.3681,  0.1045, -0.1746,  0.1345,  0.1397]],\n",
      "       grad_fn=<SliceBackward0>)\n",
      "____________________________\n"
     ]
    },
    {
     "name": "stderr",
     "output_type": "stream",
     "text": [
      "/tmp/ipykernel_4610/423004094.py:74: UserWarning: To copy construct from a tensor, it is recommended to use sourceTensor.clone().detach() or sourceTensor.clone().detach().requires_grad_(True), rather than torch.tensor(sourceTensor).\n",
      "  x_lens = torch.tensor(x_lens)\n"
     ]
    },
    {
     "name": "stdout",
     "output_type": "stream",
     "text": [
      "tensor([[-0.1314,  0.1491,  0.0482, -0.3737,  0.1297, -0.0920,  0.0710,  0.1097],\n",
      "        [-0.1394,  0.1679,  0.0501, -0.3956,  0.1162, -0.0804,  0.0267,  0.0756],\n",
      "        [-0.1218,  0.1510,  0.0651, -0.3605,  0.1260, -0.0837,  0.0416,  0.0807]],\n",
      "       grad_fn=<SliceBackward0>)\n",
      "____________________________\n"
     ]
    },
    {
     "name": "stderr",
     "output_type": "stream",
     "text": [
      "/tmp/ipykernel_4610/423004094.py:74: UserWarning: To copy construct from a tensor, it is recommended to use sourceTensor.clone().detach() or sourceTensor.clone().detach().requires_grad_(True), rather than torch.tensor(sourceTensor).\n",
      "  x_lens = torch.tensor(x_lens)\n",
      "/tmp/ipykernel_4610/423004094.py:74: UserWarning: To copy construct from a tensor, it is recommended to use sourceTensor.clone().detach() or sourceTensor.clone().detach().requires_grad_(True), rather than torch.tensor(sourceTensor).\n",
      "  x_lens = torch.tensor(x_lens)\n"
     ]
    },
    {
     "name": "stdout",
     "output_type": "stream",
     "text": [
      "tensor([[-0.1283,  0.0634,  0.0180, -0.3371,  0.0593, -0.1364,  0.1846,  0.1711],\n",
      "        [-0.1185,  0.0608,  0.0330, -0.3132,  0.0627, -0.1183,  0.1804,  0.1501],\n",
      "        [-0.1100,  0.1158,  0.0526, -0.3862,  0.1087, -0.1116,  0.0826,  0.1036]],\n",
      "       grad_fn=<SliceBackward0>)\n",
      "____________________________\n",
      "tensor([[-0.1611,  0.1045,  0.0209, -0.3691,  0.0673, -0.1751,  0.1775,  0.1834],\n",
      "        [-0.1394,  0.0711,  0.0465, -0.3486,  0.0674, -0.1267,  0.1643,  0.1756],\n",
      "        [-0.1640,  0.0709,  0.0404, -0.3598,  0.0319, -0.1414,  0.1559,  0.1756]],\n",
      "       grad_fn=<SliceBackward0>)\n",
      "____________________________\n"
     ]
    },
    {
     "name": "stderr",
     "output_type": "stream",
     "text": [
      "/tmp/ipykernel_4610/423004094.py:74: UserWarning: To copy construct from a tensor, it is recommended to use sourceTensor.clone().detach() or sourceTensor.clone().detach().requires_grad_(True), rather than torch.tensor(sourceTensor).\n",
      "  x_lens = torch.tensor(x_lens)\n",
      "/tmp/ipykernel_4610/423004094.py:74: UserWarning: To copy construct from a tensor, it is recommended to use sourceTensor.clone().detach() or sourceTensor.clone().detach().requires_grad_(True), rather than torch.tensor(sourceTensor).\n",
      "  x_lens = torch.tensor(x_lens)\n"
     ]
    },
    {
     "name": "stdout",
     "output_type": "stream",
     "text": [
      "tensor([[-0.1205,  0.1705,  0.0480, -0.3666,  0.1542, -0.1051,  0.0570,  0.0777],\n",
      "        [-0.0877,  0.0888,  0.0456, -0.3284,  0.1054, -0.0993,  0.1470,  0.1235],\n",
      "        [-0.0955,  0.1141,  0.0700, -0.3423,  0.1393, -0.0635,  0.0703,  0.0866]],\n",
      "       grad_fn=<SliceBackward0>)\n",
      "____________________________\n",
      "tensor([[-0.1901,  0.1624,  0.0111, -0.4180,  0.0715, -0.1941,  0.0941,  0.1598],\n",
      "        [-0.1013,  0.0973,  0.0471, -0.3632,  0.0919, -0.0811,  0.1126,  0.1109],\n",
      "        [-0.1006,  0.1031,  0.0536, -0.3647,  0.0820, -0.0715,  0.0698,  0.0700]],\n",
      "       grad_fn=<SliceBackward0>)\n",
      "____________________________\n"
     ]
    },
    {
     "name": "stderr",
     "output_type": "stream",
     "text": [
      "/tmp/ipykernel_4610/423004094.py:74: UserWarning: To copy construct from a tensor, it is recommended to use sourceTensor.clone().detach() or sourceTensor.clone().detach().requires_grad_(True), rather than torch.tensor(sourceTensor).\n",
      "  x_lens = torch.tensor(x_lens)\n",
      "/tmp/ipykernel_4610/423004094.py:74: UserWarning: To copy construct from a tensor, it is recommended to use sourceTensor.clone().detach() or sourceTensor.clone().detach().requires_grad_(True), rather than torch.tensor(sourceTensor).\n",
      "  x_lens = torch.tensor(x_lens)\n"
     ]
    },
    {
     "name": "stdout",
     "output_type": "stream",
     "text": [
      "tensor([[-0.1039,  0.1438,  0.0414, -0.3520,  0.1334, -0.1207,  0.0588,  0.0623],\n",
      "        [-0.1406,  0.0978,  0.0260, -0.3416,  0.0947, -0.1718,  0.1515,  0.1508],\n",
      "        [-0.1802,  0.1131,  0.0179, -0.3805,  0.0492, -0.1867,  0.1536,  0.1735]],\n",
      "       grad_fn=<SliceBackward0>)\n",
      "____________________________\n",
      "tensor([[-0.1337,  0.1049,  0.1031, -0.3680,  0.1205, -0.1148,  0.0407,  0.1261],\n",
      "        [-0.1125,  0.0615,  0.1356, -0.3289,  0.1037, -0.1235,  0.0661,  0.1316],\n",
      "        [-0.1642,  0.1209,  0.0658, -0.3554,  0.1027, -0.1671,  0.0531,  0.1384]],\n",
      "       grad_fn=<SliceBackward0>)\n",
      "____________________________\n"
     ]
    },
    {
     "name": "stderr",
     "output_type": "stream",
     "text": [
      "/tmp/ipykernel_4610/423004094.py:74: UserWarning: To copy construct from a tensor, it is recommended to use sourceTensor.clone().detach() or sourceTensor.clone().detach().requires_grad_(True), rather than torch.tensor(sourceTensor).\n",
      "  x_lens = torch.tensor(x_lens)\n"
     ]
    },
    {
     "name": "stdout",
     "output_type": "stream",
     "text": [
      "tensor([[-0.1294,  0.1075,  0.0794, -0.3863,  0.1077, -0.0880,  0.0666,  0.1197],\n",
      "        [-0.1328,  0.1190,  0.1016, -0.3994,  0.1082, -0.0820,  0.0094,  0.0847],\n",
      "        [-0.1103,  0.0950,  0.1221, -0.3631,  0.1233, -0.0898,  0.0252,  0.0844]],\n",
      "       grad_fn=<SliceBackward0>)\n",
      "____________________________\n"
     ]
    },
    {
     "name": "stderr",
     "output_type": "stream",
     "text": [
      "/tmp/ipykernel_4610/423004094.py:74: UserWarning: To copy construct from a tensor, it is recommended to use sourceTensor.clone().detach() or sourceTensor.clone().detach().requires_grad_(True), rather than torch.tensor(sourceTensor).\n",
      "  x_lens = torch.tensor(x_lens)\n",
      "/tmp/ipykernel_4610/423004094.py:74: UserWarning: To copy construct from a tensor, it is recommended to use sourceTensor.clone().detach() or sourceTensor.clone().detach().requires_grad_(True), rather than torch.tensor(sourceTensor).\n",
      "  x_lens = torch.tensor(x_lens)\n"
     ]
    },
    {
     "name": "stdout",
     "output_type": "stream",
     "text": [
      "tensor([[-0.1433,  0.0340,  0.0442, -0.3214,  0.0893, -0.1987,  0.1815,  0.1973],\n",
      "        [-0.1164,  0.0420,  0.0364, -0.3177,  0.0964, -0.1531,  0.2152,  0.1868],\n",
      "        [-0.1227,  0.0157,  0.0386, -0.3000,  0.0767, -0.1570,  0.2133,  0.1984]],\n",
      "       grad_fn=<SliceBackward0>)\n",
      "____________________________\n",
      "tensor([[-0.0796,  0.0774,  0.0428, -0.3480,  0.0896, -0.1020,  0.1534,  0.1207],\n",
      "        [-0.0910,  0.0703,  0.0459, -0.3598,  0.0581, -0.1085,  0.1397,  0.1100],\n",
      "        [-0.0691,  0.0354,  0.0712, -0.3108,  0.0635, -0.1267,  0.1759,  0.1263]],\n",
      "       grad_fn=<SliceBackward0>)\n",
      "____________________________\n"
     ]
    },
    {
     "name": "stderr",
     "output_type": "stream",
     "text": [
      "/tmp/ipykernel_4610/423004094.py:74: UserWarning: To copy construct from a tensor, it is recommended to use sourceTensor.clone().detach() or sourceTensor.clone().detach().requires_grad_(True), rather than torch.tensor(sourceTensor).\n",
      "  x_lens = torch.tensor(x_lens)\n",
      "/tmp/ipykernel_4610/423004094.py:74: UserWarning: To copy construct from a tensor, it is recommended to use sourceTensor.clone().detach() or sourceTensor.clone().detach().requires_grad_(True), rather than torch.tensor(sourceTensor).\n",
      "  x_lens = torch.tensor(x_lens)\n"
     ]
    },
    {
     "name": "stdout",
     "output_type": "stream",
     "text": [
      "tensor([[-0.1474,  0.1275,  0.0257, -0.3789,  0.0792, -0.1163,  0.1163,  0.1416],\n",
      "        [-0.1481,  0.1504,  0.0249, -0.4000,  0.0782, -0.1034,  0.0762,  0.0985],\n",
      "        [-0.1682,  0.1679,  0.0251, -0.4063,  0.0939, -0.1554,  0.0563,  0.1189]],\n",
      "       grad_fn=<SliceBackward0>)\n",
      "____________________________\n",
      "tensor([[-0.1291,  0.1313,  0.0711, -0.3976,  0.1278, -0.1048,  0.0654,  0.1176],\n",
      "        [-0.1254,  0.1021,  0.1083, -0.3770,  0.1292, -0.1117,  0.0580,  0.1168],\n",
      "        [-0.1719,  0.1229,  0.0958, -0.3783,  0.1292, -0.1645,  0.0262,  0.1483]],\n",
      "       grad_fn=<SliceBackward0>)\n",
      "____________________________\n"
     ]
    },
    {
     "name": "stderr",
     "output_type": "stream",
     "text": [
      "/tmp/ipykernel_4610/423004094.py:74: UserWarning: To copy construct from a tensor, it is recommended to use sourceTensor.clone().detach() or sourceTensor.clone().detach().requires_grad_(True), rather than torch.tensor(sourceTensor).\n",
      "  x_lens = torch.tensor(x_lens)\n"
     ]
    },
    {
     "name": "stdout",
     "output_type": "stream",
     "text": [
      "tensor([[-0.1197,  0.0866, -0.0014, -0.3541,  0.0404, -0.1867,  0.1762,  0.1475],\n",
      "        [-0.1037,  0.0494,  0.0133, -0.3343,  0.0235, -0.2160,  0.1977,  0.1540],\n",
      "        [-0.1229,  0.0829,  0.0209, -0.3649,  0.0654, -0.1528,  0.1518,  0.1451]],\n",
      "       grad_fn=<SliceBackward0>)\n",
      "____________________________\n"
     ]
    },
    {
     "name": "stderr",
     "output_type": "stream",
     "text": [
      "/tmp/ipykernel_4610/423004094.py:74: UserWarning: To copy construct from a tensor, it is recommended to use sourceTensor.clone().detach() or sourceTensor.clone().detach().requires_grad_(True), rather than torch.tensor(sourceTensor).\n",
      "  x_lens = torch.tensor(x_lens)\n"
     ]
    },
    {
     "name": "stdout",
     "output_type": "stream",
     "text": [
      "tensor([[-0.2041,  0.2105,  0.0106, -0.4202,  0.0838, -0.1769,  0.0554,  0.1405],\n",
      "        [-0.1602,  0.1656,  0.0218, -0.4155,  0.0862, -0.1580,  0.1025,  0.1455],\n",
      "        [-0.1585,  0.1953,  0.0505, -0.4218,  0.1350, -0.1226,  0.0018,  0.0977]],\n",
      "       grad_fn=<SliceBackward0>)\n",
      "____________________________\n",
      "tensor([[-0.1428,  0.0684,  0.0578, -0.3311,  0.0755, -0.1418,  0.1199,  0.1385],\n",
      "        [-0.1568,  0.1273,  0.0577, -0.3850,  0.1029, -0.1413,  0.0369,  0.1107],\n",
      "        [-0.1499,  0.0897,  0.0877, -0.3457,  0.1200, -0.1110,  0.0470,  0.1328]],\n",
      "       grad_fn=<SliceBackward0>)\n",
      "____________________________\n",
      "tensor([[-0.0629,  0.0565,  0.0967, -0.3116,  0.0932, -0.1199,  0.1206,  0.0985],\n",
      "        [-0.0642,  0.0691,  0.1123, -0.3109,  0.1280, -0.0800,  0.0657,  0.0669],\n",
      "        [-0.0881,  0.0882,  0.1150, -0.3313,  0.1060, -0.0826,  0.0126,  0.0435]],\n",
      "       grad_fn=<SliceBackward0>)\n",
      "____________________________\n"
     ]
    },
    {
     "name": "stderr",
     "output_type": "stream",
     "text": [
      "/tmp/ipykernel_4610/423004094.py:74: UserWarning: To copy construct from a tensor, it is recommended to use sourceTensor.clone().detach() or sourceTensor.clone().detach().requires_grad_(True), rather than torch.tensor(sourceTensor).\n",
      "  x_lens = torch.tensor(x_lens)\n",
      "/tmp/ipykernel_4610/423004094.py:74: UserWarning: To copy construct from a tensor, it is recommended to use sourceTensor.clone().detach() or sourceTensor.clone().detach().requires_grad_(True), rather than torch.tensor(sourceTensor).\n",
      "  x_lens = torch.tensor(x_lens)\n"
     ]
    }
   ],
   "source": [
    "i = 0\n",
    "for data in merged_sesions_data:\n",
    "    sessions = []\n",
    "    i += 1\n",
    "    if i < 3:\n",
    "        continue\n",
    "    for session in (\n",
    "        data.drop(\"track_id\", axis=1)\n",
    "        .drop(\"session_id\", axis=1)\n",
    "        .drop(\"user_id\", axis=1)\n",
    "        .values\n",
    "    ):\n",
    "        unpacked_data = np.array([])\n",
    "        for element in session:\n",
    "            unpacked_data = np.append(unpacked_data, element)\n",
    "        sessions.append(torch.tensor(unpacked_data))\n",
    "    sessions = torch.stack(sessions)\n",
    "    # print(data)\n",
    "    model.reset_hidden_state(1, \"cpu\")\n",
    "    print(model.cpu()(torch.stack([sessions]).float(), torch.tensor([len(sessions)]))[-1][-4:-1])\n",
    "    print(\"____________________________\")\n",
    "    if i > 25:\n",
    "        break"
   ]
  },
  {
   "cell_type": "code",
   "execution_count": 187,
   "metadata": {},
   "outputs": [],
   "source": [
    "model_scripted = torch.jit.script(model.cpu())\n",
    "model_scripted.save(\"recomendation_models/scripted_user_preference_model_v4_8_dim.pt\")"
   ]
  }
 ],
 "metadata": {
  "kernelspec": {
   "display_name": "pt",
   "language": "python",
   "name": "python3"
  },
  "language_info": {
   "codemirror_mode": {
    "name": "ipython",
    "version": 3
   },
   "file_extension": ".py",
   "mimetype": "text/x-python",
   "name": "python",
   "nbconvert_exporter": "python",
   "pygments_lexer": "ipython3",
   "version": "3.11.8"
  }
 },
 "nbformat": 4,
 "nbformat_minor": 2
}
