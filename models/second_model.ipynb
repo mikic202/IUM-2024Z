{
 "cells": [
  {
   "cell_type": "code",
   "execution_count": 66,
   "metadata": {},
   "outputs": [],
   "source": [
    "import torch\n",
    "import pandas as pd\n",
    "from pathlib import Path\n",
    "from datetime import datetime\n",
    "from torch.utils.data import Dataset\n",
    "from random import sample\n",
    "import os\n",
    "import numpy as np"
   ]
  },
  {
   "cell_type": "code",
   "execution_count": 2,
   "metadata": {},
   "outputs": [
    {
     "name": "stdout",
     "output_type": "stream",
     "text": [
      "Device: cuda\n"
     ]
    }
   ],
   "source": [
    "device = torch.device(\"cuda\") if torch.cuda.is_available() else torch.device(\"cpu\")\n",
    "print(\"Device:\", device)"
   ]
  },
  {
   "cell_type": "code",
   "execution_count": 9,
   "metadata": {},
   "outputs": [],
   "source": [
    "model_path = 'embeding_models/embeding_v1_16_dim.pt'\n",
    "model = torch.jit.load(model_path).encoder.to(device)"
   ]
  },
  {
   "cell_type": "code",
   "execution_count": 5,
   "metadata": {},
   "outputs": [
    {
     "name": "stdout",
     "output_type": "stream",
     "text": [
      "1735858800.0\n"
     ]
    }
   ],
   "source": [
    "BASE_DATE = datetime.strptime(\"2025-01-03\", '%Y-%m-%d').timestamp()\n",
    "print(BASE_DATE)"
   ]
  },
  {
   "cell_type": "code",
   "execution_count": 18,
   "metadata": {},
   "outputs": [],
   "source": [
    "tracks_raw_data = pd.read_json(Path('../data_v2/tracks_artists.jsonl'), lines=True)\n",
    "\n",
    "\n",
    "# NORMALIZE DATES\n",
    "tracks_raw_data[\"release_date\"] = (pd.to_datetime(tracks_raw_data[\"release_date\"], format='mixed').apply(lambda x: x.timestamp())).div(BASE_DATE)\n",
    "\n",
    "# NORMALIZE DURATION\n",
    "tracks_raw_data[\"duration_ms\"] = tracks_raw_data[\"duration_ms\"].div(tracks_raw_data[\"duration_ms\"].max())\n",
    "\n",
    "# NORMALIZE TEMPO\n",
    "tracks_raw_data[\"tempo\"] = tracks_raw_data[\"tempo\"].div(tracks_raw_data[\"tempo\"].max())\n",
    "\n",
    "# EXPLICITE ENCODING\n",
    "tracks_raw_data[\"explicit\"] = tracks_raw_data[\"explicit\"].apply(lambda x: [0, 1] if x else [1, 0])\n",
    "\n",
    "# processs ARTIST HASH\n",
    "\n",
    "def postprocess_hash_to_list(x):\n",
    "    str_x = str(x)\n",
    "    if len(str_x) < 8:\n",
    "        str_x = \"0\" * (8 - len(str_x)) + str_x\n",
    "    return [int(x) for x in str_x]\n",
    "\n",
    "tracks_raw_data[\"id_artist_hash\"] = tracks_raw_data[\"id_artist_hash\"].apply(postprocess_hash_to_list)\n",
    "\n"
   ]
  },
  {
   "cell_type": "code",
   "execution_count": 7,
   "metadata": {},
   "outputs": [],
   "source": [
    "class TracksDataset(Dataset):\n",
    "    def __init__(self, tracks_data: pd.DataFrame):\n",
    "        self.data = tracks_data\n",
    "\n",
    "    def __len__(self):\n",
    "        return len(self.data)\n",
    "\n",
    "    def get_item(self, idx):\n",
    "        return self.data.iloc[idx].values\n",
    "\n",
    "    def __getitem__(self, idx):\n",
    "        unpacked_data = []\n",
    "        for data in self.data.iloc[idx].drop(\"id_track\").values:\n",
    "            if type(data) != list:\n",
    "                unpacked_data.append(data)\n",
    "            else:\n",
    "                unpacked_data += data\n",
    "        return torch.Tensor(unpacked_data)"
   ]
  },
  {
   "cell_type": "code",
   "execution_count": 19,
   "metadata": {},
   "outputs": [],
   "source": [
    "embedings_per_id = pd.DataFrame()\n",
    "embedings_per_id[\"id_track\"] = tracks_raw_data[\"id_track\"]\n",
    "embedings_per_id[\"embeding\"] = [model(torch.Tensor(x).to(device)).detach().cpu().numpy() for x in TracksDataset(tracks_raw_data)]"
   ]
  },
  {
   "cell_type": "code",
   "execution_count": 27,
   "metadata": {},
   "outputs": [],
   "source": [
    "test_intigers = [687, 852, 528, 562, 426, 1092, 171, 250, 223, 265, 981, 607, 738, 1020, 510, 899, 596, 1047, 826, 669, 923, 905, 1063, 139, 1031]"
   ]
  },
  {
   "cell_type": "code",
   "execution_count": 37,
   "metadata": {},
   "outputs": [
    {
     "name": "stdout",
     "output_type": "stream",
     "text": [
      "   session_id               timestamp  user_id                track_id  \\\n",
      "0       89426 2024-09-17 10:51:23.000      260  1xPec5BN0Zxv77zrWKq43S   \n",
      "1       89427 2023-05-20 00:35:36.227      260  7s0lDK7y3XLmI7tcsRAbW0   \n",
      "2       89427 2023-05-20 00:38:48.054      260  48lQegoLqGAzaRLnMwK0mO   \n",
      "3       89427 2023-05-20 00:43:30.802      260  48lQegoLqGAzaRLnMwK0mO   \n",
      "4       89427 2023-05-20 00:44:59.387      260  4usVYcPlxRgRet6YashdCJ   \n",
      "\n",
      "  event_type  \n",
      "0       play  \n",
      "1       play  \n",
      "2       play  \n",
      "3       like  \n",
      "4       play  \n"
     ]
    }
   ],
   "source": [
    "files_to_load = [file for file in os.listdir(\"../data_v2/sessions\") if int(file.split(\".\")[0].split(\"_\")[-1]) not in test_intigers]\n",
    "\n",
    "raw_sessions_data = pd.concat([pd.read_json(Path(f'../data_v2/sessions/{file}'), lines=True) for file in files_to_load])\n",
    "print(raw_sessions_data.head())"
   ]
  },
  {
   "cell_type": "code",
   "execution_count": 125,
   "metadata": {},
   "outputs": [],
   "source": [
    "merged_sesions_data = raw_sessions_data.merge(embedings_per_id, left_on=\"track_id\", right_on=\"id_track\").drop(\"id_track\", axis=1)\n",
    "merged_sesions_data[\"timestamp\"] = (pd.to_datetime(merged_sesions_data[\"timestamp\"], format='mixed').apply(lambda x: x.timestamp())).div(BASE_DATE)\n",
    "merged_sesions_data = pd.get_dummies(merged_sesions_data, columns=[\"event_type\"], dtype = int)\n",
    "\n",
    "merged_sesions_data = [pd.DataFrame(y) for _, y in merged_sesions_data.groupby('session_id', as_index=False) if len(y) > 1]"
   ]
  },
  {
   "cell_type": "code",
   "execution_count": null,
   "metadata": {},
   "outputs": [
    {
     "name": "stdout",
     "output_type": "stream",
     "text": [
      "a\n"
     ]
    },
    {
     "name": "stdout",
     "output_type": "stream",
     "text": [
      "         session_id  timestamp  user_id                track_id  \\\n",
      "1185842         124   0.993923      101  1ZAkJE2vi1wbo7tyvgWuXN   \n",
      "1185843         124   0.993923      101  6YpSiNQN8pVzJMOX2fXGHm   \n",
      "1185844         124   0.993924      101  6YpSiNQN8pVzJMOX2fXGHm   \n",
      "\n",
      "                                                  embeding  event_type_like  \\\n",
      "1185842  [4.7692018, 0.50016445, 1.8391547, -4.9334793,...                0   \n",
      "1185843  [3.1930203, -1.8490876, 6.483166, -4.8640914, ...                0   \n",
      "1185844  [3.1930203, -1.8490876, 6.483166, -4.8640914, ...                1   \n",
      "\n",
      "         event_type_play  event_type_skip  \n",
      "1185842                1                0  \n",
      "1185843                1                0  \n",
      "1185844                0                0  \n"
     ]
    }
   ],
   "source": [
    "print(merged_sesions_data[0])"
   ]
  },
  {
   "cell_type": "code",
   "execution_count": 128,
   "metadata": {},
   "outputs": [],
   "source": [
    "class CustomUserSesionsDataset(Dataset):\n",
    "    def __init__(self, data: pd.DataFrame):\n",
    "        self.data = data\n",
    "\n",
    "    def __len__(self):\n",
    "        return len(self.data)\n",
    "\n",
    "    def get_item(self, idx):\n",
    "        return self.data.iloc[idx].values\n",
    "\n",
    "    def __getitem__(self, idx):\n",
    "        sessions = []\n",
    "        for session in self.data[idx].drop(\"track_id\", axis=1).drop(\"session_id\", axis=1).drop(\"user_id\", axis=1).values:\n",
    "            unpacked_data = np.array([])\n",
    "            for data in session:\n",
    "                unpacked_data = np.append(unpacked_data, data)\n",
    "            sessions.append(torch.tensor(unpacked_data))\n",
    "        return sessions"
   ]
  },
  {
   "cell_type": "code",
   "execution_count": 129,
   "metadata": {},
   "outputs": [],
   "source": [
    "user_sesions_dataset = CustomUserSesionsDataset(merged_sesions_data)"
   ]
  }
 ],
 "metadata": {
  "kernelspec": {
   "display_name": "pt",
   "language": "python",
   "name": "python3"
  },
  "language_info": {
   "codemirror_mode": {
    "name": "ipython",
    "version": 3
   },
   "file_extension": ".py",
   "mimetype": "text/x-python",
   "name": "python",
   "nbconvert_exporter": "python",
   "pygments_lexer": "ipython3",
   "version": "3.11.8"
  }
 },
 "nbformat": 4,
 "nbformat_minor": 2
}
