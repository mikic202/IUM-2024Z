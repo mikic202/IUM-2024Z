{
 "cells": [
  {
   "cell_type": "code",
   "execution_count": 89,
   "metadata": {},
   "outputs": [],
   "source": [
    "import pandas as pd\n",
    "from pathlib import Path\n",
    "from datetime import datetime\n",
    "import torch\n",
    "from torch.utils.data import Dataset, DataLoader\n",
    "import numpy as np"
   ]
  },
  {
   "cell_type": "code",
   "execution_count": 20,
   "metadata": {},
   "outputs": [
    {
     "name": "stdout",
     "output_type": "stream",
     "text": [
      "1735858800.0\n"
     ]
    }
   ],
   "source": [
    "BASE_DATE = datetime.strptime(\"2025-01-03\", '%Y-%m-%d').timestamp()\n",
    "print(BASE_DATE)"
   ]
  },
  {
   "cell_type": "code",
   "execution_count": 37,
   "metadata": {},
   "outputs": [
    {
     "name": "stdout",
     "output_type": "stream",
     "text": [
      "Device: cuda\n"
     ]
    }
   ],
   "source": [
    "device = torch.device(\"cuda\") if torch.cuda.is_available() else torch.device(\"cpu\")\n",
    "print(\"Device:\", device)"
   ]
  },
  {
   "cell_type": "code",
   "execution_count": 120,
   "metadata": {},
   "outputs": [],
   "source": [
    "tracks_raw_data = pd.read_json(Path('../data_v2/tracks.jsonl'), lines=True)\n",
    "artists_raw_data = pd.read_json(Path('../data_v2/artists_2.jsonl'), lines=True)\n",
    "\n",
    "# NORMALIZE DATES\n",
    "tracks_raw_data[\"release_date\"] = (pd.to_datetime(tracks_raw_data[\"release_date\"], format='mixed').apply(lambda x: x.timestamp())).div(BASE_DATE)\n",
    "\n",
    "# NORMALIZE DURATION\n",
    "tracks_raw_data[\"duration_ms\"] = tracks_raw_data[\"duration_ms\"].div(tracks_raw_data[\"duration_ms\"].max())\n",
    "\n",
    "# NORMALIZE TEMPO\n",
    "tracks_raw_data[\"tempo\"] = tracks_raw_data[\"tempo\"].div(tracks_raw_data[\"tempo\"].max())\n",
    "\n",
    "# EXPLICITE ENCODING\n",
    "tracks_raw_data[\"explicit\"] = tracks_raw_data[\"explicit\"].apply(lambda x: [0, 1] if x else [1, 0])\n",
    "\n",
    "# ARTISTS INJECTION\n",
    "def couple_artist_to_track(artist_id: str):\n",
    "    artist_index = np.where(artists_raw_data[\"id\"] == artist_id)[0][0]\n",
    "    return [artists_raw_data[\"genres\"][artist_index], artists_raw_data[\"id_hash\"][artist_index]]\n",
    "\n",
    "tracks_raw_data[\"geners\"], tracks_raw_data[\"artists_hash\"] = zip(*list(tracks_raw_data[\"id_artist\"].apply(couple_artist_to_track).values))\n"
   ]
  },
  {
   "cell_type": "code",
   "execution_count": 121,
   "metadata": {},
   "outputs": [],
   "source": [
    "class TracksDataset(Dataset):\n",
    "    def __init__(self, tracks_data: pd.DataFrame):\n",
    "        self.data = tracks_data\n",
    "\n",
    "    def __len__(self):\n",
    "        return len(self.data)\n",
    "\n",
    "    def get_item(self, idx):\n",
    "        return self.data.iloc[idx].values\n",
    "\n",
    "    def __getitem__(self, idx):\n",
    "        unpacked_data = []\n",
    "        for data in self.data.iloc[idx].drop(\"id\").drop(\"name\").drop(\"id_artist\").values:\n",
    "            if type(data) != list:\n",
    "                unpacked_data.append(data)\n",
    "            else:\n",
    "                unpacked_data += data\n",
    "        return unpacked_data"
   ]
  },
  {
   "cell_type": "code",
   "execution_count": 122,
   "metadata": {},
   "outputs": [
    {
     "name": "stdout",
     "output_type": "stream",
     "text": [
      "[0.51, 0.0244967669500308, 1, 0, -0.11442958378872752, 0.665, 0.7010000000000001, 8, 0.1101166667, 0.0329, 0.622, 6.48e-05, 0.14100000000000001, 0.977, 0.6081490601956393, 0, 1, 0, 0, 0, 0, 0, 'rock', 'pop', 17241872]\n",
      "[0.51, 0.030182575945486907, 1, 0, -0.12328929058054722, 0.635, 0.656, 2, 0.1416666667, 0.0291, 0.389, 0.00127, 0.0828, 0.77, 0.610793324822012, 0, 1, 0, 0, 0, 0, 0, 'rock', 96828466]\n",
      "[0.75, 0.04500033735751499, 1, 0, -0.09456990395762604, 0.525, 0.216, 6, 0.22585000000000002, 0.030100000000000002, 0.837, 0.0, 0.107, 0.328, 0.4850589961789922, 0, 0, 1, 0, 0, 0, 0, 'rock', 75345512]\n",
      "[0.73, 0.0325836391798766, 1, 0, -0.09541605572987849, 0.5730000000000001, 0.9390000000000001, 8, 0.10735000000000001, 0.08080000000000001, 0.493, 0.0, 0.0994, 0.963, 0.6241827541242805, 0, 0, 0, 0, 0, 0, 0, 'rock', 67110466]\n",
      "[0.7000000000000001, 0.04182577887112894, 1, 0, -0.10910380498690331, 0.883, 0.464, 10, 0.1875166667, 0.0591, 0.279, 1.51e-05, 0.07440000000000001, 0.925, 0.5068082999014081, 0, 0, 0, 0, 0, 0, 0, 'funk', 72341460]\n",
      "[0.7000000000000001, 0.04639515292488965, 1, 0, -0.10611738696718881, 0.212, 0.383, 10, 0.16785000000000003, 0.0347, 0.723, 0.0, 0.299, 0.452, 0.7895992258029342, 0, 0, 0, 0, 0, 0, 0, 'rock', 'pop', 36088395]\n",
      "[0.7000000000000001, 0.04661188692552748, 1, 0, -0.10850652138296041, 0.389, 0.396, 7, 0.1333166667, 0.0332, 0.887, 0.0, 0.0828, 0.585, 0.7808304444818015, 0, 0, 0, 0, 0, 0, 0, 'country', 'rock', 10244864]\n",
      "[0.6900000000000001, 0.0343442085422806, 1, 0, -0.09541605572987849, 0.551, 0.86, 7, 0.13065000000000002, 0.0796, 0.262, 4.57e-06, 0.0558, 0.723, 0.6220882421092326, 0, 0, 0, 0, 0, 0, 0, 'rock', 67110466]\n",
      "[0.68, 0.036330977332002024, 1, 0, -0.0995970409574788, 0.767, 0.331, 1, 0.1796166667, 0.0337, 0.64, 0.0, 0.06810000000000001, 0.636, 0.5148228751607231, 0, 1, 0, 0, 0, 0, 0, 'rock', 96828466]\n",
      "[0.68, 0.03742484087161532, 1, 0, -0.0995970409574788, 0.59, 0.805, 0, 0.1080166667, 0.0371, 0.137, 0.0, 0.09960000000000001, 0.797, 0.6293258942566755, 0, 1, 0, 0, 0, 0, 0, 'rock', 96828466]\n"
     ]
    }
   ],
   "source": [
    "tracks_raw_dataset = TracksDataset(tracks_raw_data)\n",
    "for i in range(10):\n",
    "    print(tracks_raw_dataset[i+100])"
   ]
  }
 ],
 "metadata": {
  "kernelspec": {
   "display_name": "pt",
   "language": "python",
   "name": "python3"
  },
  "language_info": {
   "codemirror_mode": {
    "name": "ipython",
    "version": 3
   },
   "file_extension": ".py",
   "mimetype": "text/x-python",
   "name": "python",
   "nbconvert_exporter": "python",
   "pygments_lexer": "ipython3",
   "version": "3.11.8"
  }
 },
 "nbformat": 4,
 "nbformat_minor": 2
}
