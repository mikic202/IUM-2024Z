{
 "cells": [
  {
   "cell_type": "code",
   "execution_count": 1,
   "metadata": {},
   "outputs": [],
   "source": [
    "import pandas as pd\n",
    "from pathlib import Path\n",
    "from datetime import datetime\n",
    "import torch\n",
    "from torch.utils.data import Dataset, DataLoader\n",
    "import numpy as np"
   ]
  },
  {
   "cell_type": "code",
   "execution_count": 2,
   "metadata": {},
   "outputs": [
    {
     "name": "stdout",
     "output_type": "stream",
     "text": [
      "1735858800.0\n"
     ]
    }
   ],
   "source": [
    "BASE_DATE = datetime.strptime(\"2025-01-03\", '%Y-%m-%d').timestamp()\n",
    "print(BASE_DATE)"
   ]
  },
  {
   "cell_type": "code",
   "execution_count": 3,
   "metadata": {},
   "outputs": [
    {
     "name": "stdout",
     "output_type": "stream",
     "text": [
      "Device: cuda\n"
     ]
    }
   ],
   "source": [
    "device = torch.device(\"cuda\") if torch.cuda.is_available() else torch.device(\"cpu\")\n",
    "print(\"Device:\", device)"
   ]
  },
  {
   "cell_type": "code",
   "execution_count": 6,
   "metadata": {},
   "outputs": [],
   "source": [
    "tracks_raw_data = pd.read_json(Path('../data_v2/tracks.jsonl'), lines=True)\n",
    "artists_raw_data = pd.read_json(Path('../data_v2/artists.jsonl'), lines=True)\n",
    "\n",
    "# NORMALIZE DATES\n",
    "tracks_raw_data[\"release_date\"] = (pd.to_datetime(tracks_raw_data[\"release_date\"], format='mixed').apply(lambda x: x.timestamp())).div(BASE_DATE)\n",
    "\n",
    "# NORMALIZE DURATION\n",
    "tracks_raw_data[\"duration_ms\"] = tracks_raw_data[\"duration_ms\"].div(tracks_raw_data[\"duration_ms\"].max())\n",
    "\n",
    "# NORMALIZE TEMPO\n",
    "tracks_raw_data[\"tempo\"] = tracks_raw_data[\"tempo\"].div(tracks_raw_data[\"tempo\"].max())\n",
    "\n",
    "# EXPLICITE ENCODING\n",
    "tracks_raw_data[\"explicit\"] = tracks_raw_data[\"explicit\"].apply(lambda x: [0, 1] if x else [1, 0])\n",
    "\n",
    "# ARTISTS INJECTION\n",
    "def couple_artist_to_track(artist_id: str):\n",
    "    artist_index = np.where(artists_raw_data[\"id\"] == artist_id)[0][0]\n",
    "    return [artists_raw_data[\"genres\"][artist_index], artists_raw_data[\"id_artist_hash\"][artist_index]]\n",
    "\n",
    "tracks_raw_data[\"geners\"], tracks_raw_data[\"artists_hash\"] = zip(*list(tracks_raw_data[\"id_artist\"].apply(couple_artist_to_track).values))\n"
   ]
  },
  {
   "cell_type": "code",
   "execution_count": 9,
   "metadata": {},
   "outputs": [],
   "source": [
    "class TracksDataset(Dataset):\n",
    "    def __init__(self, tracks_data: pd.DataFrame):\n",
    "        self.data = tracks_data\n",
    "\n",
    "    def __len__(self):\n",
    "        return len(self.data)\n",
    "\n",
    "    def get_item(self, idx):\n",
    "        return self.data.iloc[idx].values\n",
    "\n",
    "    def __getitem__(self, idx):\n",
    "        unpacked_data = []\n",
    "        for data in self.data.iloc[idx].drop(\"id\").drop(\"id_artist\").values:\n",
    "            if type(data) != list:\n",
    "                unpacked_data.append(data)\n",
    "            else:\n",
    "                unpacked_data += data\n",
    "        return unpacked_data"
   ]
  },
  {
   "cell_type": "code",
   "execution_count": 10,
   "metadata": {},
   "outputs": [
    {
     "name": "stdout",
     "output_type": "stream",
     "text": [
      "[np.float64(0.51), np.float64(0.0244967669500308), 1, 0, np.float64(-0.11442958378872752), np.float64(0.665), np.float64(0.7010000000000001), np.int64(8), np.float64(0.1101166667), np.float64(0.0329), np.float64(0.622), np.float64(6.48e-05), np.float64(0.14100000000000001), np.float64(0.977), np.float64(0.6081490601956393), 0, 1, 0, 0, 0, 0, 0, 'rock', 'pop', np.int64(17241872)]\n",
      "[np.float64(0.51), np.float64(0.030182575945486907), 1, 0, np.float64(-0.12328929058054722), np.float64(0.635), np.float64(0.656), np.int64(2), np.float64(0.1416666667), np.float64(0.0291), np.float64(0.389), np.float64(0.00127), np.float64(0.0828), np.float64(0.77), np.float64(0.610793324822012), 0, 1, 0, 0, 0, 0, 0, 'rock', np.int64(96828466)]\n",
      "[np.float64(0.75), np.float64(0.04500033735751499), 1, 0, np.float64(-0.09456990395762604), np.float64(0.525), np.float64(0.216), np.int64(6), np.float64(0.22585000000000002), np.float64(0.030100000000000002), np.float64(0.837), np.float64(0.0), np.float64(0.107), np.float64(0.328), np.float64(0.4850589961789922), 0, 0, 1, 0, 0, 0, 0, 'rock', 'mellow', np.int64(75345512)]\n",
      "[np.float64(0.73), np.float64(0.0325836391798766), 1, 0, np.float64(-0.09541605572987849), np.float64(0.5730000000000001), np.float64(0.9390000000000001), np.int64(8), np.float64(0.10735000000000001), np.float64(0.08080000000000001), np.float64(0.493), np.float64(0.0), np.float64(0.0994), np.float64(0.963), np.float64(0.6241827541242805), 0, 0, 0, 0, 0, 0, 0, 'rock', 'mellow', np.int64(67110466)]\n",
      "[np.float64(0.7000000000000001), np.float64(0.04182577887112894), 1, 0, np.float64(-0.10910380498690331), np.float64(0.883), np.float64(0.464), np.int64(10), np.float64(0.1875166667), np.float64(0.0591), np.float64(0.279), np.float64(1.51e-05), np.float64(0.07440000000000001), np.float64(0.925), np.float64(0.5068082999014081), 0, 0, 0, 0, 0, 0, 0, np.int64(72341460)]\n",
      "[np.float64(0.7000000000000001), np.float64(0.04639515292488965), 1, 0, np.float64(-0.10611738696718881), np.float64(0.212), np.float64(0.383), np.int64(10), np.float64(0.16785000000000003), np.float64(0.0347), np.float64(0.723), np.float64(0.0), np.float64(0.299), np.float64(0.452), np.float64(0.7895992258029342), 0, 0, 0, 0, 0, 0, 0, 'rock', 'pop', np.int64(36088395)]\n",
      "[np.float64(0.7000000000000001), np.float64(0.04661188692552748), 1, 0, np.float64(-0.10850652138296041), np.float64(0.389), np.float64(0.396), np.int64(7), np.float64(0.1333166667), np.float64(0.0332), np.float64(0.887), np.float64(0.0), np.float64(0.0828), np.float64(0.585), np.float64(0.7808304444818015), 0, 0, 0, 0, 0, 0, 0, 'rock', 'mellow', 'country', np.int64(10244864)]\n",
      "[np.float64(0.6900000000000001), np.float64(0.0343442085422806), 1, 0, np.float64(-0.09541605572987849), np.float64(0.551), np.float64(0.86), np.int64(7), np.float64(0.13065000000000002), np.float64(0.0796), np.float64(0.262), np.float64(4.57e-06), np.float64(0.0558), np.float64(0.723), np.float64(0.6220882421092326), 0, 0, 0, 0, 0, 0, 0, 'rock', 'mellow', np.int64(67110466)]\n",
      "[np.float64(0.68), np.float64(0.036330977332002024), 1, 0, np.float64(-0.0995970409574788), np.float64(0.767), np.float64(0.331), np.int64(1), np.float64(0.1796166667), np.float64(0.0337), np.float64(0.64), np.float64(0.0), np.float64(0.06810000000000001), np.float64(0.636), np.float64(0.5148228751607231), 0, 1, 0, 0, 0, 0, 0, 'rock', np.int64(96828466)]\n",
      "[np.float64(0.68), np.float64(0.03742484087161532), 1, 0, np.float64(-0.0995970409574788), np.float64(0.59), np.float64(0.805), np.int64(0), np.float64(0.1080166667), np.float64(0.0371), np.float64(0.137), np.float64(0.0), np.float64(0.09960000000000001), np.float64(0.797), np.float64(0.6293258942566755), 0, 1, 0, 0, 0, 0, 0, 'rock', np.int64(96828466)]\n"
     ]
    }
   ],
   "source": [
    "tracks_raw_dataset = TracksDataset(tracks_raw_data)\n",
    "for i in range(10):\n",
    "    print(tracks_raw_dataset[i+100])"
   ]
  }
 ],
 "metadata": {
  "kernelspec": {
   "display_name": "pytorch_env",
   "language": "python",
   "name": "python3"
  },
  "language_info": {
   "codemirror_mode": {
    "name": "ipython",
    "version": 3
   },
   "file_extension": ".py",
   "mimetype": "text/x-python",
   "name": "python",
   "nbconvert_exporter": "python",
   "pygments_lexer": "ipython3",
   "version": "3.12.3"
  }
 },
 "nbformat": 4,
 "nbformat_minor": 2
}
