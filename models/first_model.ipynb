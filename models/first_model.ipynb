{
 "cells": [
  {
   "cell_type": "code",
   "execution_count": 2,
   "metadata": {},
   "outputs": [],
   "source": [
    "import torch\n",
    "import pandas as pd\n",
    "from pathlib import Path\n",
    "from datetime import datetime\n",
    "from torch.utils.data import Dataset\n"
   ]
  },
  {
   "cell_type": "code",
   "execution_count": 3,
   "metadata": {},
   "outputs": [
    {
     "name": "stdout",
     "output_type": "stream",
     "text": [
      "Device: cuda\n"
     ]
    }
   ],
   "source": [
    "device = torch.device(\"cuda\") if torch.cuda.is_available() else torch.device(\"cpu\")\n",
    "print(\"Device:\", device)"
   ]
  },
  {
   "cell_type": "code",
   "execution_count": 4,
   "metadata": {},
   "outputs": [],
   "source": [
    "model_path = 'embeding_models/embeding_v0.pt'\n",
    "model = torch.jit.load(model_path)"
   ]
  },
  {
   "cell_type": "code",
   "execution_count": 5,
   "metadata": {},
   "outputs": [
    {
     "name": "stdout",
     "output_type": "stream",
     "text": [
      "1735858800.0\n"
     ]
    }
   ],
   "source": [
    "BASE_DATE = datetime.strptime(\"2025-01-03\", '%Y-%m-%d').timestamp()\n",
    "print(BASE_DATE)"
   ]
  },
  {
   "cell_type": "code",
   "execution_count": null,
   "metadata": {},
   "outputs": [
    {
     "name": "stdout",
     "output_type": "stream",
     "text": [
      "id_track                                       0RNxWy0PC3AyH4ThH3aGK6\n",
      "popularity                                                       0.55\n",
      "duration_ms                                                    201467\n",
      "explicit                                                            0\n",
      "release_date                                                     1929\n",
      "danceability                                                    0.673\n",
      "energy                                                          0.377\n",
      "key                                                                 0\n",
      "loudness                                                     0.235683\n",
      "speechiness                                                    0.0697\n",
      "acousticness                                                    0.586\n",
      "instrumentalness                                                  0.0\n",
      "liveness                                                        0.332\n",
      "valence                                                         0.713\n",
      "tempo                                                          88.973\n",
      "type_hot_one                                    [0, 0, 0, 0, 0, 0, 0]\n",
      "id_artist_hash                                               52351379\n",
      "genre_hot_one       [0, 0, 0, 0, 0, 0, 0, 0, 0, 0, 0, 0, 0, 0, 0, ...\n",
      "Name: 0, dtype: object\n"
     ]
    }
   ],
   "source": [
    "tracks_raw_data = pd.read_json(Path('../data_v2/tracks_artists.jsonl'), lines=True)\n",
    "\n",
    "\n",
    "# NORMALIZE DATES\n",
    "tracks_raw_data[\"release_date\"] = (pd.to_datetime(tracks_raw_data[\"release_date\"], format='mixed').apply(lambda x: x.timestamp())).div(BASE_DATE)\n",
    "\n",
    "# NORMALIZE DURATION\n",
    "tracks_raw_data[\"duration_ms\"] = tracks_raw_data[\"duration_ms\"].div(tracks_raw_data[\"duration_ms\"].max())\n",
    "\n",
    "# NORMALIZE TEMPO\n",
    "tracks_raw_data[\"tempo\"] = tracks_raw_data[\"tempo\"].div(tracks_raw_data[\"tempo\"].max())\n",
    "\n",
    "# EXPLICITE ENCODING\n",
    "tracks_raw_data[\"explicit\"] = tracks_raw_data[\"explicit\"].apply(lambda x: [0, 1] if x else [1, 0])\n",
    "\n",
    "# processs ARTIST HASH\n",
    "\n",
    "def postprocess_hash_to_list(x):\n",
    "    str_x = str(x)\n",
    "    if len(str_x) < 8:\n",
    "        str_x = \"0\" * (8 - len(str_x)) + str_x\n",
    "    return [int(x) for x in str_x]\n",
    "\n",
    "tracks_raw_data[\"id_artist_hash\"] = tracks_raw_data[\"id_artist_hash\"].apply(postprocess_hash_to_list)\n"
   ]
  },
  {
   "cell_type": "code",
   "execution_count": 7,
   "metadata": {},
   "outputs": [],
   "source": [
    "class TracksDataset(Dataset):\n",
    "    def __init__(self, tracks_data: pd.DataFrame):\n",
    "        self.data = tracks_data\n",
    "\n",
    "    def __len__(self):\n",
    "        return len(self.data)\n",
    "\n",
    "    def get_item(self, idx):\n",
    "        return self.data.iloc[idx].values\n",
    "\n",
    "    def __getitem__(self, idx):\n",
    "        unpacked_data = []\n",
    "        for data in self.data.iloc[idx].drop(\"id_track\").values:\n",
    "            if type(data) != list:\n",
    "                unpacked_data.append(data)\n",
    "            else:\n",
    "                unpacked_data += data\n",
    "        return torch.Tensor(unpacked_data)"
   ]
  },
  {
   "cell_type": "code",
   "execution_count": 33,
   "metadata": {},
   "outputs": [
    {
     "name": "stdout",
     "output_type": "stream",
     "text": [
      "session_id                           493\n",
      "timestamp     2024-11-25 20:55:36.783000\n",
      "user_id                              101\n",
      "track_id          4mmkhcEm1Ljy1U9nwtsxUo\n",
      "event_type                          like\n",
      "Name: 1687, dtype: object\n"
     ]
    }
   ],
   "source": [
    "user_id = 101\n",
    "session_raw_data = pd.read_json(Path(f'../data_v2/sessions/sessions_user_{user_id}.jsonl'), lines=True)\n",
    "\n",
    "filtered_data = session_raw_data[session_raw_data['event_type'] == 'like']\n",
    "\n",
    "latest_play = filtered_data.loc[filtered_data['timestamp'].idxmax()]\n",
    "print(latest_play)\n",
    "\n",
    "latest_track_id = latest_play['track_id']\n",
    "\n",
    "# print(tracks_raw_data)\n",
    "\n",
    "last_liked_track = tracks_raw_data[tracks_raw_data['id_track'] == latest_track_id]\n",
    "last_liked_row_number = last_liked_track.index[0] \n",
    "\n",
    "\n"
   ]
  },
  {
   "cell_type": "code",
   "execution_count": 34,
   "metadata": {},
   "outputs": [],
   "source": [
    "\n",
    "tracks_raw_dataset = TracksDataset(tracks_raw_data)\n"
   ]
  },
  {
   "cell_type": "code",
   "execution_count": 36,
   "metadata": {},
   "outputs": [
    {
     "name": "stdout",
     "output_type": "stream",
     "text": [
      "Track ID with smallest distance: 4R5bSS8yoCl2czeWLr61aO\n",
      "Track genre with smallest distance: [0, 0, 0, 0, 0, 0, 0, 0, 0, 0, 0, 0, 0, 0, 0, 1, 0]\n",
      "Track genre last liked: [0, 0, 0, 0, 0, 0, 0, 0, 0, 0, 0, 0, 0, 0, 0, 1, 0]\n",
      "Smallest Distance: 0.11900537461042404\n"
     ]
    }
   ],
   "source": [
    "\n",
    "model.eval()  \n",
    "reference_embedding = model.encoder(tracks_raw_dataset[last_liked_row_number].to(device))\n",
    "\n",
    "# Przechowuj minimalny dystans i odpowiadający mu indeks\n",
    "min_distance = float('inf')\n",
    "closest_track_id = None\n",
    "\n",
    "for i, track in enumerate(tracks_raw_dataset):\n",
    "    if i == last_liked_row_number:\n",
    "        continue\n",
    "    # Oblicz embedding dla bieżącego tracka\n",
    "    track_embedding = model.encoder(track.to(device))\n",
    "    \n",
    "    # Oblicz dystans\n",
    "    distance = torch.dist(reference_embedding, track_embedding).item()\n",
    "    # Sprawdź, czy znaleziono mniejszy dystans\n",
    "    if distance < min_distance:\n",
    "        min_distance = distance\n",
    "        closest_track = tracks_raw_data.iloc[i]\n",
    "        \n",
    "closest_track_id = closest_track['id_track']\n",
    "closest_track_genre = closest_track['genre_hot_one']\n",
    "last_liked_track_genre = tracks_raw_data.iloc[last_liked_row_number]['genre_hot_one']\n",
    "\n",
    "print(f\"Track ID with smallest distance: {closest_track_id}\")\n",
    "print(f\"Track genre with smallest distance: {closest_track_genre}\")\n",
    "print(f\"Track genre last liked: {last_liked_track_genre}\")\n",
    "\n",
    "print(f\"Smallest Distance: {min_distance}\")\n",
    "\n"
   ]
  }
 ],
 "metadata": {
  "kernelspec": {
   "display_name": "pytorch_env",
   "language": "python",
   "name": "python3"
  },
  "language_info": {
   "codemirror_mode": {
    "name": "ipython",
    "version": 3
   },
   "file_extension": ".py",
   "mimetype": "text/x-python",
   "name": "python",
   "nbconvert_exporter": "python",
   "pygments_lexer": "ipython3",
   "version": "3.12.3"
  }
 },
 "nbformat": 4,
 "nbformat_minor": 2
}
