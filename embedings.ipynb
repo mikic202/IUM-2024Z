{
 "cells": [
  {
   "cell_type": "markdown",
   "metadata": {},
   "source": [
    "# Embedings"
   ]
  },
  {
   "cell_type": "code",
   "execution_count": 5,
   "metadata": {},
   "outputs": [],
   "source": [
    "import json\n",
    "import pandas as pd"
   ]
  },
  {
   "cell_type": "code",
   "execution_count": 13,
   "metadata": {},
   "outputs": [
    {
     "name": "stdout",
     "output_type": "stream",
     "text": [
      "(0, id                  0RNxWy0PC3AyH4ThH3aGK6\n",
      "name                        Mack the Knife\n",
      "popularity                            55.0\n",
      "duration_ms                         201467\n",
      "explicit                                 0\n",
      "id_artist           19eLuQmk9aCobbVDHc6eek\n",
      "release_date                          1929\n",
      "danceability                         0.673\n",
      "energy                               0.377\n",
      "key                                      0\n",
      "loudness                           -14.141\n",
      "speechiness                         0.0697\n",
      "acousticness                         0.586\n",
      "instrumentalness                       0.0\n",
      "liveness                             0.332\n",
      "valence                              0.713\n",
      "tempo                               88.973\n",
      "Name: 0, dtype: object)\n"
     ]
    }
   ],
   "source": [
    "data = pd.read_json('data/tracks.jsonl', lines=True)\n",
    "# print(data)\n",
    "for i in  data.iterrows():\n",
    "    print(i)\n",
    "    break\n"
   ]
  },
  {
   "cell_type": "code",
   "execution_count": null,
   "metadata": {},
   "outputs": [],
   "source": []
  }
 ],
 "metadata": {
  "kernelspec": {
   "display_name": "pt",
   "language": "python",
   "name": "python3"
  },
  "language_info": {
   "codemirror_mode": {
    "name": "ipython",
    "version": 3
   },
   "file_extension": ".py",
   "mimetype": "text/x-python",
   "name": "python",
   "nbconvert_exporter": "python",
   "pygments_lexer": "ipython3",
   "version": "3.11.8"
  }
 },
 "nbformat": 4,
 "nbformat_minor": 2
}
