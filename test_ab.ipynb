{
 "cells": [
  {
   "cell_type": "code",
   "execution_count": 20,
   "metadata": {},
   "outputs": [],
   "source": [
    "import json\n"
   ]
  },
  {
   "cell_type": "code",
   "execution_count": 21,
   "metadata": {},
   "outputs": [],
   "source": [
    "def read_jsonl(file_path):\n",
    "    with open(file_path, \"r\") as f:\n",
    "        for line in f:\n",
    "            yield json.loads(line)"
   ]
  },
  {
   "cell_type": "code",
   "execution_count": 22,
   "metadata": {},
   "outputs": [],
   "source": [
    "\n",
    "log_data = list(read_jsonl('data_v2/ab_experiment_log.jsonl'))\n"
   ]
  },
  {
   "cell_type": "code",
   "execution_count": 23,
   "metadata": {},
   "outputs": [],
   "source": [
    "results = []\n",
    "model_counts = {\"simple\": {\"in_session\": 0, \"not_in_session\": 0}, \"complex\": {\"in_session\": 0, \"not_in_session\": 0}}\n",
    "\n",
    "for log_entry in log_data:\n",
    "    user_id = log_entry[\"user_id\"]\n",
    "    recommended_track_id = log_entry[\"recommended_tracks\"][\"id_track\"]\n",
    "    model_type = log_entry[\"model_type\"]\n",
    "    \n",
    "    session_data = list(read_jsonl(f'data_v2/sessions/sessions_user_{user_id}.jsonl'))\n",
    "    \n",
    "    is_in_session = any(session['track_id'] == recommended_track_id for session in session_data)\n",
    "    \n",
    "    result = {\n",
    "        \"user_id\": user_id,\n",
    "        \"recommended_track_id\": recommended_track_id,\n",
    "        \"model_type\": model_type,\n",
    "        \"is_in_session\": is_in_session\n",
    "    }\n",
    "    \n",
    "    results.append(result)\n",
    "    \n",
    "    if is_in_session:\n",
    "        model_counts[model_type][\"in_session\"] += 1\n",
    "    else:\n",
    "        model_counts[model_type][\"not_in_session\"] += 1\n",
    "\n"
   ]
  },
  {
   "cell_type": "code",
   "execution_count": 24,
   "metadata": {},
   "outputs": [
    {
     "name": "stdout",
     "output_type": "stream",
     "text": [
      "Model: simple\n",
      "Succesfully recommended tracks: 3\n",
      "Unsuccesfully recommended tracks: 54\n",
      "Success: 5.26%\n",
      "Model: complex\n",
      "Succesfully recommended tracks: 6\n",
      "Unsuccesfully recommended tracks: 47\n",
      "Success: 11.32%\n"
     ]
    }
   ],
   "source": [
    "for model_type, counts in model_counts.items():\n",
    "    total_recommendations = counts[\"in_session\"] + counts[\"not_in_session\"]\n",
    "    success_rate = (counts[\"in_session\"] / total_recommendations) * 100 if total_recommendations > 0 else 0\n",
    "    print(f\"Model: {model_type}\")\n",
    "    print(f\"Succesfully recommended tracks: {counts['in_session']}\")\n",
    "    print(f\"Unsuccesfully recommended tracks: {counts['not_in_session']}\")\n",
    "    print(f\"Success: {success_rate:.2f}%\")\n",
    "\n"
   ]
  }
 ],
 "metadata": {
  "kernelspec": {
   "display_name": "pytorch_env",
   "language": "python",
   "name": "python3"
  },
  "language_info": {
   "codemirror_mode": {
    "name": "ipython",
    "version": 3
   },
   "file_extension": ".py",
   "mimetype": "text/x-python",
   "name": "python",
   "nbconvert_exporter": "python",
   "pygments_lexer": "ipython3",
   "version": "3.12.3"
  }
 },
 "nbformat": 4,
 "nbformat_minor": 2
}
